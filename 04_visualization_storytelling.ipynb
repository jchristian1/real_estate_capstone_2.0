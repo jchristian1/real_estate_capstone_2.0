{
 "cells": [
  {
   "cell_type": "code",
   "execution_count": 12,
   "id": "451773fa-5b20-4e09-ab80-3f47cf65d00c",
   "metadata": {},
   "outputs": [
    {
     "name": "stdout",
     "output_type": "stream",
     "text": [
      "Collecting plotly\n",
      "  Downloading plotly-6.3.0-py3-none-any.whl.metadata (8.5 kB)\n",
      "Collecting narwhals>=1.15.1 (from plotly)\n",
      "  Downloading narwhals-2.6.0-py3-none-any.whl.metadata (11 kB)\n",
      "Requirement already satisfied: packaging in /home/datascience/miniconda3/lib/python3.12/site-packages (from plotly) (24.2)\n",
      "Downloading plotly-6.3.0-py3-none-any.whl (9.8 MB)\n",
      "\u001b[2K   \u001b[38;2;114;156;31m━━━━━━━━━━━━━━━━━━━━━━━━━━━━━━━━━━━━━━━━\u001b[0m \u001b[32m9.8/9.8 MB\u001b[0m \u001b[31m48.5 MB/s\u001b[0m eta \u001b[36m0:00:00\u001b[0m MB/s\u001b[0m eta \u001b[36m0:00:01\u001b[0m\n",
      "\u001b[?25hDownloading narwhals-2.6.0-py3-none-any.whl (408 kB)\n",
      "Installing collected packages: narwhals, plotly\n",
      "Successfully installed narwhals-2.6.0 plotly-6.3.0\n"
     ]
    }
   ],
   "source": [
    "!pip install plotly\n"
   ]
  },
  {
   "cell_type": "code",
   "execution_count": 1,
   "id": "b1371302-00b9-4e82-8941-d8babca98430",
   "metadata": {},
   "outputs": [],
   "source": [
    "import pandas as pd\n",
    "import numpy as np\n",
    "from pathlib import Path"
   ]
  },
  {
   "cell_type": "markdown",
   "id": "1fa184f9-49bd-4621-8205-cb26d8d64853",
   "metadata": {},
   "source": [
    "**Step 1 — Load inputs + quick sanity checks**\n",
    "\n",
    "This loads our cleaned Redfin data (for time-series), plus the three ranked tables we exported. It also picks a few case-study ZIPs we’ll plot later."
   ]
  },
  {
   "cell_type": "code",
   "execution_count": 2,
   "id": "8f0bda24-cf69-47b5-af14-9755231bc9e5",
   "metadata": {},
   "outputs": [
    {
     "name": "stdout",
     "output_type": "stream",
     "text": [
      "Loaded frames:\n",
      "{'cleaned_rows': 3062620, 'rank_200': 25, 'rank_350': 25, 'rank_500': 25}\n",
      "Time-series table shape: (3062620, 11)\n",
      "TS columns: ['zip_code', 'year', 'period_end', 'median_sale_price', 'median_sale_price_yoy', 'median_dom', 'avg_sale_to_list', 'sold_above_list', 'state', 'state_code', 'parent_metro_region']\n",
      "Case-study ZIPs: [15379, 38639, 48620]\n",
      "\n",
      "Top of $200k table:\n"
     ]
    },
    {
     "data": {
      "text/html": [
       "<div>\n",
       "<style scoped>\n",
       "    .dataframe tbody tr th:only-of-type {\n",
       "        vertical-align: middle;\n",
       "    }\n",
       "\n",
       "    .dataframe tbody tr th {\n",
       "        vertical-align: top;\n",
       "    }\n",
       "\n",
       "    .dataframe thead th {\n",
       "        text-align: right;\n",
       "    }\n",
       "</style>\n",
       "<table border=\"1\" class=\"dataframe\">\n",
       "  <thead>\n",
       "    <tr style=\"text-align: right;\">\n",
       "      <th></th>\n",
       "      <th>zip_code</th>\n",
       "      <th>latest_year</th>\n",
       "      <th>latest_price</th>\n",
       "      <th>cagr</th>\n",
       "      <th>price_volatility</th>\n",
       "      <th>turnover</th>\n",
       "      <th>median_dom</th>\n",
       "      <th>avg_sale_to_list</th>\n",
       "      <th>sold_above_list</th>\n",
       "      <th>off_market_2w</th>\n",
       "      <th>...</th>\n",
       "      <th>median_dom_score</th>\n",
       "      <th>avg_sale_to_list_score</th>\n",
       "      <th>sold_above_list_score</th>\n",
       "      <th>market_score</th>\n",
       "      <th>stability_score</th>\n",
       "      <th>ftb_score</th>\n",
       "      <th>state</th>\n",
       "      <th>state_code</th>\n",
       "      <th>parent_metro_region</th>\n",
       "      <th>why_it_ranks</th>\n",
       "    </tr>\n",
       "  </thead>\n",
       "  <tbody>\n",
       "    <tr>\n",
       "      <th>0</th>\n",
       "      <td>15379</td>\n",
       "      <td>2015.0</td>\n",
       "      <td>35000.0</td>\n",
       "      <td>0.3</td>\n",
       "      <td>0.0</td>\n",
       "      <td>2.0</td>\n",
       "      <td>144.333333</td>\n",
       "      <td>0.568282</td>\n",
       "      <td>0.0</td>\n",
       "      <td>0.0</td>\n",
       "      <td>...</td>\n",
       "      <td>0.971102</td>\n",
       "      <td>0.949043</td>\n",
       "      <td>1.0</td>\n",
       "      <td>0.973382</td>\n",
       "      <td>1.0</td>\n",
       "      <td>0.993209</td>\n",
       "      <td>Pennsylvania</td>\n",
       "      <td>PA</td>\n",
       "      <td>Pittsburgh, PA</td>\n",
       "      <td>well under budget, strong recent growth, healt...</td>\n",
       "    </tr>\n",
       "    <tr>\n",
       "      <th>1</th>\n",
       "      <td>38639</td>\n",
       "      <td>2016.0</td>\n",
       "      <td>30000.0</td>\n",
       "      <td>0.3</td>\n",
       "      <td>0.0</td>\n",
       "      <td>2.0</td>\n",
       "      <td>135.666667</td>\n",
       "      <td>0.845295</td>\n",
       "      <td>0.0</td>\n",
       "      <td>0.0</td>\n",
       "      <td>...</td>\n",
       "      <td>0.972849</td>\n",
       "      <td>0.742317</td>\n",
       "      <td>1.0</td>\n",
       "      <td>0.905056</td>\n",
       "      <td>1.0</td>\n",
       "      <td>0.976148</td>\n",
       "      <td>Mississippi</td>\n",
       "      <td>MS</td>\n",
       "      <td>Clarksdale, MS</td>\n",
       "      <td>well under budget, strong recent growth, healt...</td>\n",
       "    </tr>\n",
       "    <tr>\n",
       "      <th>2</th>\n",
       "      <td>48620</td>\n",
       "      <td>2022.0</td>\n",
       "      <td>106000.0</td>\n",
       "      <td>0.3</td>\n",
       "      <td>0.0</td>\n",
       "      <td>2.0</td>\n",
       "      <td>120.000000</td>\n",
       "      <td>0.905925</td>\n",
       "      <td>0.0</td>\n",
       "      <td>0.0</td>\n",
       "      <td>...</td>\n",
       "      <td>0.976008</td>\n",
       "      <td>0.697071</td>\n",
       "      <td>1.0</td>\n",
       "      <td>0.891026</td>\n",
       "      <td>1.0</td>\n",
       "      <td>0.972337</td>\n",
       "      <td>Michigan</td>\n",
       "      <td>MI</td>\n",
       "      <td>Midland, MI</td>\n",
       "      <td>well under budget, strong recent growth, healt...</td>\n",
       "    </tr>\n",
       "    <tr>\n",
       "      <th>3</th>\n",
       "      <td>13649</td>\n",
       "      <td>2020.0</td>\n",
       "      <td>136000.0</td>\n",
       "      <td>0.3</td>\n",
       "      <td>0.0</td>\n",
       "      <td>2.0</td>\n",
       "      <td>104.000000</td>\n",
       "      <td>0.945544</td>\n",
       "      <td>0.0</td>\n",
       "      <td>0.0</td>\n",
       "      <td>...</td>\n",
       "      <td>0.979234</td>\n",
       "      <td>0.667505</td>\n",
       "      <td>1.0</td>\n",
       "      <td>0.882246</td>\n",
       "      <td>1.0</td>\n",
       "      <td>0.970022</td>\n",
       "      <td>New York</td>\n",
       "      <td>NY</td>\n",
       "      <td>Ogdensburg, NY</td>\n",
       "      <td>well under budget, strong recent growth, healt...</td>\n",
       "    </tr>\n",
       "    <tr>\n",
       "      <th>4</th>\n",
       "      <td>28353</td>\n",
       "      <td>2025.0</td>\n",
       "      <td>148000.0</td>\n",
       "      <td>0.3</td>\n",
       "      <td>0.0</td>\n",
       "      <td>2.0</td>\n",
       "      <td>315.333333</td>\n",
       "      <td>0.902972</td>\n",
       "      <td>0.0</td>\n",
       "      <td>0.0</td>\n",
       "      <td>...</td>\n",
       "      <td>0.936626</td>\n",
       "      <td>0.699275</td>\n",
       "      <td>1.0</td>\n",
       "      <td>0.878634</td>\n",
       "      <td>1.0</td>\n",
       "      <td>0.969070</td>\n",
       "      <td>North Carolina</td>\n",
       "      <td>NC</td>\n",
       "      <td>Laurinburg, NC</td>\n",
       "      <td>well under budget, strong recent growth, healt...</td>\n",
       "    </tr>\n",
       "  </tbody>\n",
       "</table>\n",
       "<p>5 rows × 23 columns</p>\n",
       "</div>"
      ],
      "text/plain": [
       "   zip_code  latest_year  latest_price  cagr  price_volatility  turnover  \\\n",
       "0     15379       2015.0       35000.0   0.3               0.0       2.0   \n",
       "1     38639       2016.0       30000.0   0.3               0.0       2.0   \n",
       "2     48620       2022.0      106000.0   0.3               0.0       2.0   \n",
       "3     13649       2020.0      136000.0   0.3               0.0       2.0   \n",
       "4     28353       2025.0      148000.0   0.3               0.0       2.0   \n",
       "\n",
       "   median_dom  avg_sale_to_list  sold_above_list  off_market_2w  ...  \\\n",
       "0  144.333333          0.568282              0.0            0.0  ...   \n",
       "1  135.666667          0.845295              0.0            0.0  ...   \n",
       "2  120.000000          0.905925              0.0            0.0  ...   \n",
       "3  104.000000          0.945544              0.0            0.0  ...   \n",
       "4  315.333333          0.902972              0.0            0.0  ...   \n",
       "\n",
       "   median_dom_score  avg_sale_to_list_score  sold_above_list_score  \\\n",
       "0          0.971102                0.949043                    1.0   \n",
       "1          0.972849                0.742317                    1.0   \n",
       "2          0.976008                0.697071                    1.0   \n",
       "3          0.979234                0.667505                    1.0   \n",
       "4          0.936626                0.699275                    1.0   \n",
       "\n",
       "   market_score  stability_score  ftb_score           state  state_code  \\\n",
       "0      0.973382              1.0   0.993209    Pennsylvania          PA   \n",
       "1      0.905056              1.0   0.976148     Mississippi          MS   \n",
       "2      0.891026              1.0   0.972337        Michigan          MI   \n",
       "3      0.882246              1.0   0.970022        New York          NY   \n",
       "4      0.878634              1.0   0.969070  North Carolina          NC   \n",
       "\n",
       "   parent_metro_region                                       why_it_ranks  \n",
       "0       Pittsburgh, PA  well under budget, strong recent growth, healt...  \n",
       "1       Clarksdale, MS  well under budget, strong recent growth, healt...  \n",
       "2          Midland, MI  well under budget, strong recent growth, healt...  \n",
       "3       Ogdensburg, NY  well under budget, strong recent growth, healt...  \n",
       "4       Laurinburg, NC  well under budget, strong recent growth, healt...  \n",
       "\n",
       "[5 rows x 23 columns]"
      ]
     },
     "metadata": {},
     "output_type": "display_data"
    },
    {
     "name": "stdout",
     "output_type": "stream",
     "text": [
      "\n",
      "Top of $350k table:\n"
     ]
    },
    {
     "data": {
      "text/html": [
       "<div>\n",
       "<style scoped>\n",
       "    .dataframe tbody tr th:only-of-type {\n",
       "        vertical-align: middle;\n",
       "    }\n",
       "\n",
       "    .dataframe tbody tr th {\n",
       "        vertical-align: top;\n",
       "    }\n",
       "\n",
       "    .dataframe thead th {\n",
       "        text-align: right;\n",
       "    }\n",
       "</style>\n",
       "<table border=\"1\" class=\"dataframe\">\n",
       "  <thead>\n",
       "    <tr style=\"text-align: right;\">\n",
       "      <th></th>\n",
       "      <th>zip_code</th>\n",
       "      <th>latest_year</th>\n",
       "      <th>latest_price</th>\n",
       "      <th>cagr</th>\n",
       "      <th>price_volatility</th>\n",
       "      <th>turnover</th>\n",
       "      <th>median_dom</th>\n",
       "      <th>avg_sale_to_list</th>\n",
       "      <th>sold_above_list</th>\n",
       "      <th>off_market_2w</th>\n",
       "      <th>...</th>\n",
       "      <th>median_dom_score</th>\n",
       "      <th>avg_sale_to_list_score</th>\n",
       "      <th>sold_above_list_score</th>\n",
       "      <th>market_score</th>\n",
       "      <th>stability_score</th>\n",
       "      <th>ftb_score</th>\n",
       "      <th>state</th>\n",
       "      <th>state_code</th>\n",
       "      <th>parent_metro_region</th>\n",
       "      <th>why_it_ranks</th>\n",
       "    </tr>\n",
       "  </thead>\n",
       "  <tbody>\n",
       "    <tr>\n",
       "      <th>0</th>\n",
       "      <td>15379</td>\n",
       "      <td>2015.0</td>\n",
       "      <td>35000.0</td>\n",
       "      <td>0.3</td>\n",
       "      <td>0.0</td>\n",
       "      <td>2.0</td>\n",
       "      <td>144.333333</td>\n",
       "      <td>0.568282</td>\n",
       "      <td>0.0</td>\n",
       "      <td>0.0</td>\n",
       "      <td>...</td>\n",
       "      <td>0.971102</td>\n",
       "      <td>0.949043</td>\n",
       "      <td>1.0</td>\n",
       "      <td>0.973382</td>\n",
       "      <td>1.0</td>\n",
       "      <td>0.993209</td>\n",
       "      <td>Pennsylvania</td>\n",
       "      <td>PA</td>\n",
       "      <td>Pittsburgh, PA</td>\n",
       "      <td>well under budget, strong recent growth, healt...</td>\n",
       "    </tr>\n",
       "    <tr>\n",
       "      <th>1</th>\n",
       "      <td>38639</td>\n",
       "      <td>2016.0</td>\n",
       "      <td>30000.0</td>\n",
       "      <td>0.3</td>\n",
       "      <td>0.0</td>\n",
       "      <td>2.0</td>\n",
       "      <td>135.666667</td>\n",
       "      <td>0.845295</td>\n",
       "      <td>0.0</td>\n",
       "      <td>0.0</td>\n",
       "      <td>...</td>\n",
       "      <td>0.972849</td>\n",
       "      <td>0.742317</td>\n",
       "      <td>1.0</td>\n",
       "      <td>0.905056</td>\n",
       "      <td>1.0</td>\n",
       "      <td>0.976148</td>\n",
       "      <td>Mississippi</td>\n",
       "      <td>MS</td>\n",
       "      <td>Clarksdale, MS</td>\n",
       "      <td>well under budget, strong recent growth, healt...</td>\n",
       "    </tr>\n",
       "    <tr>\n",
       "      <th>2</th>\n",
       "      <td>48620</td>\n",
       "      <td>2022.0</td>\n",
       "      <td>106000.0</td>\n",
       "      <td>0.3</td>\n",
       "      <td>0.0</td>\n",
       "      <td>2.0</td>\n",
       "      <td>120.000000</td>\n",
       "      <td>0.905925</td>\n",
       "      <td>0.0</td>\n",
       "      <td>0.0</td>\n",
       "      <td>...</td>\n",
       "      <td>0.976008</td>\n",
       "      <td>0.697071</td>\n",
       "      <td>1.0</td>\n",
       "      <td>0.891026</td>\n",
       "      <td>1.0</td>\n",
       "      <td>0.972337</td>\n",
       "      <td>Michigan</td>\n",
       "      <td>MI</td>\n",
       "      <td>Midland, MI</td>\n",
       "      <td>well under budget, strong recent growth, healt...</td>\n",
       "    </tr>\n",
       "    <tr>\n",
       "      <th>3</th>\n",
       "      <td>13649</td>\n",
       "      <td>2020.0</td>\n",
       "      <td>136000.0</td>\n",
       "      <td>0.3</td>\n",
       "      <td>0.0</td>\n",
       "      <td>2.0</td>\n",
       "      <td>104.000000</td>\n",
       "      <td>0.945544</td>\n",
       "      <td>0.0</td>\n",
       "      <td>0.0</td>\n",
       "      <td>...</td>\n",
       "      <td>0.979234</td>\n",
       "      <td>0.667505</td>\n",
       "      <td>1.0</td>\n",
       "      <td>0.882246</td>\n",
       "      <td>1.0</td>\n",
       "      <td>0.970022</td>\n",
       "      <td>New York</td>\n",
       "      <td>NY</td>\n",
       "      <td>Ogdensburg, NY</td>\n",
       "      <td>well under budget, strong recent growth, healt...</td>\n",
       "    </tr>\n",
       "    <tr>\n",
       "      <th>4</th>\n",
       "      <td>28353</td>\n",
       "      <td>2025.0</td>\n",
       "      <td>148000.0</td>\n",
       "      <td>0.3</td>\n",
       "      <td>0.0</td>\n",
       "      <td>2.0</td>\n",
       "      <td>315.333333</td>\n",
       "      <td>0.902972</td>\n",
       "      <td>0.0</td>\n",
       "      <td>0.0</td>\n",
       "      <td>...</td>\n",
       "      <td>0.936626</td>\n",
       "      <td>0.699275</td>\n",
       "      <td>1.0</td>\n",
       "      <td>0.878634</td>\n",
       "      <td>1.0</td>\n",
       "      <td>0.969070</td>\n",
       "      <td>North Carolina</td>\n",
       "      <td>NC</td>\n",
       "      <td>Laurinburg, NC</td>\n",
       "      <td>well under budget, strong recent growth, healt...</td>\n",
       "    </tr>\n",
       "  </tbody>\n",
       "</table>\n",
       "<p>5 rows × 23 columns</p>\n",
       "</div>"
      ],
      "text/plain": [
       "   zip_code  latest_year  latest_price  cagr  price_volatility  turnover  \\\n",
       "0     15379       2015.0       35000.0   0.3               0.0       2.0   \n",
       "1     38639       2016.0       30000.0   0.3               0.0       2.0   \n",
       "2     48620       2022.0      106000.0   0.3               0.0       2.0   \n",
       "3     13649       2020.0      136000.0   0.3               0.0       2.0   \n",
       "4     28353       2025.0      148000.0   0.3               0.0       2.0   \n",
       "\n",
       "   median_dom  avg_sale_to_list  sold_above_list  off_market_2w  ...  \\\n",
       "0  144.333333          0.568282              0.0            0.0  ...   \n",
       "1  135.666667          0.845295              0.0            0.0  ...   \n",
       "2  120.000000          0.905925              0.0            0.0  ...   \n",
       "3  104.000000          0.945544              0.0            0.0  ...   \n",
       "4  315.333333          0.902972              0.0            0.0  ...   \n",
       "\n",
       "   median_dom_score  avg_sale_to_list_score  sold_above_list_score  \\\n",
       "0          0.971102                0.949043                    1.0   \n",
       "1          0.972849                0.742317                    1.0   \n",
       "2          0.976008                0.697071                    1.0   \n",
       "3          0.979234                0.667505                    1.0   \n",
       "4          0.936626                0.699275                    1.0   \n",
       "\n",
       "   market_score  stability_score  ftb_score           state  state_code  \\\n",
       "0      0.973382              1.0   0.993209    Pennsylvania          PA   \n",
       "1      0.905056              1.0   0.976148     Mississippi          MS   \n",
       "2      0.891026              1.0   0.972337        Michigan          MI   \n",
       "3      0.882246              1.0   0.970022        New York          NY   \n",
       "4      0.878634              1.0   0.969070  North Carolina          NC   \n",
       "\n",
       "   parent_metro_region                                       why_it_ranks  \n",
       "0       Pittsburgh, PA  well under budget, strong recent growth, healt...  \n",
       "1       Clarksdale, MS  well under budget, strong recent growth, healt...  \n",
       "2          Midland, MI  well under budget, strong recent growth, healt...  \n",
       "3       Ogdensburg, NY  well under budget, strong recent growth, healt...  \n",
       "4       Laurinburg, NC  well under budget, strong recent growth, healt...  \n",
       "\n",
       "[5 rows x 23 columns]"
      ]
     },
     "metadata": {},
     "output_type": "display_data"
    },
    {
     "name": "stdout",
     "output_type": "stream",
     "text": [
      "\n",
      "Top of $500k table:\n"
     ]
    },
    {
     "data": {
      "text/html": [
       "<div>\n",
       "<style scoped>\n",
       "    .dataframe tbody tr th:only-of-type {\n",
       "        vertical-align: middle;\n",
       "    }\n",
       "\n",
       "    .dataframe tbody tr th {\n",
       "        vertical-align: top;\n",
       "    }\n",
       "\n",
       "    .dataframe thead th {\n",
       "        text-align: right;\n",
       "    }\n",
       "</style>\n",
       "<table border=\"1\" class=\"dataframe\">\n",
       "  <thead>\n",
       "    <tr style=\"text-align: right;\">\n",
       "      <th></th>\n",
       "      <th>zip_code</th>\n",
       "      <th>latest_year</th>\n",
       "      <th>latest_price</th>\n",
       "      <th>cagr</th>\n",
       "      <th>price_volatility</th>\n",
       "      <th>turnover</th>\n",
       "      <th>median_dom</th>\n",
       "      <th>avg_sale_to_list</th>\n",
       "      <th>sold_above_list</th>\n",
       "      <th>off_market_2w</th>\n",
       "      <th>...</th>\n",
       "      <th>median_dom_score</th>\n",
       "      <th>avg_sale_to_list_score</th>\n",
       "      <th>sold_above_list_score</th>\n",
       "      <th>market_score</th>\n",
       "      <th>stability_score</th>\n",
       "      <th>ftb_score</th>\n",
       "      <th>state</th>\n",
       "      <th>state_code</th>\n",
       "      <th>parent_metro_region</th>\n",
       "      <th>why_it_ranks</th>\n",
       "    </tr>\n",
       "  </thead>\n",
       "  <tbody>\n",
       "    <tr>\n",
       "      <th>0</th>\n",
       "      <td>15379</td>\n",
       "      <td>2015.0</td>\n",
       "      <td>35000.0</td>\n",
       "      <td>0.3</td>\n",
       "      <td>0.0</td>\n",
       "      <td>2.0</td>\n",
       "      <td>144.333333</td>\n",
       "      <td>0.568282</td>\n",
       "      <td>0.0</td>\n",
       "      <td>0.0</td>\n",
       "      <td>...</td>\n",
       "      <td>0.971102</td>\n",
       "      <td>0.949043</td>\n",
       "      <td>1.0</td>\n",
       "      <td>0.973382</td>\n",
       "      <td>1.0</td>\n",
       "      <td>0.993209</td>\n",
       "      <td>Pennsylvania</td>\n",
       "      <td>PA</td>\n",
       "      <td>Pittsburgh, PA</td>\n",
       "      <td>well under budget, strong recent growth, healt...</td>\n",
       "    </tr>\n",
       "    <tr>\n",
       "      <th>1</th>\n",
       "      <td>38639</td>\n",
       "      <td>2016.0</td>\n",
       "      <td>30000.0</td>\n",
       "      <td>0.3</td>\n",
       "      <td>0.0</td>\n",
       "      <td>2.0</td>\n",
       "      <td>135.666667</td>\n",
       "      <td>0.845295</td>\n",
       "      <td>0.0</td>\n",
       "      <td>0.0</td>\n",
       "      <td>...</td>\n",
       "      <td>0.972849</td>\n",
       "      <td>0.742317</td>\n",
       "      <td>1.0</td>\n",
       "      <td>0.905056</td>\n",
       "      <td>1.0</td>\n",
       "      <td>0.976148</td>\n",
       "      <td>Mississippi</td>\n",
       "      <td>MS</td>\n",
       "      <td>Clarksdale, MS</td>\n",
       "      <td>well under budget, strong recent growth, healt...</td>\n",
       "    </tr>\n",
       "    <tr>\n",
       "      <th>2</th>\n",
       "      <td>48620</td>\n",
       "      <td>2022.0</td>\n",
       "      <td>106000.0</td>\n",
       "      <td>0.3</td>\n",
       "      <td>0.0</td>\n",
       "      <td>2.0</td>\n",
       "      <td>120.000000</td>\n",
       "      <td>0.905925</td>\n",
       "      <td>0.0</td>\n",
       "      <td>0.0</td>\n",
       "      <td>...</td>\n",
       "      <td>0.976008</td>\n",
       "      <td>0.697071</td>\n",
       "      <td>1.0</td>\n",
       "      <td>0.891026</td>\n",
       "      <td>1.0</td>\n",
       "      <td>0.972337</td>\n",
       "      <td>Michigan</td>\n",
       "      <td>MI</td>\n",
       "      <td>Midland, MI</td>\n",
       "      <td>well under budget, strong recent growth, healt...</td>\n",
       "    </tr>\n",
       "    <tr>\n",
       "      <th>3</th>\n",
       "      <td>13649</td>\n",
       "      <td>2020.0</td>\n",
       "      <td>136000.0</td>\n",
       "      <td>0.3</td>\n",
       "      <td>0.0</td>\n",
       "      <td>2.0</td>\n",
       "      <td>104.000000</td>\n",
       "      <td>0.945544</td>\n",
       "      <td>0.0</td>\n",
       "      <td>0.0</td>\n",
       "      <td>...</td>\n",
       "      <td>0.979234</td>\n",
       "      <td>0.667505</td>\n",
       "      <td>1.0</td>\n",
       "      <td>0.882246</td>\n",
       "      <td>1.0</td>\n",
       "      <td>0.970022</td>\n",
       "      <td>New York</td>\n",
       "      <td>NY</td>\n",
       "      <td>Ogdensburg, NY</td>\n",
       "      <td>well under budget, strong recent growth, healt...</td>\n",
       "    </tr>\n",
       "    <tr>\n",
       "      <th>4</th>\n",
       "      <td>28353</td>\n",
       "      <td>2025.0</td>\n",
       "      <td>148000.0</td>\n",
       "      <td>0.3</td>\n",
       "      <td>0.0</td>\n",
       "      <td>2.0</td>\n",
       "      <td>315.333333</td>\n",
       "      <td>0.902972</td>\n",
       "      <td>0.0</td>\n",
       "      <td>0.0</td>\n",
       "      <td>...</td>\n",
       "      <td>0.936626</td>\n",
       "      <td>0.699275</td>\n",
       "      <td>1.0</td>\n",
       "      <td>0.878634</td>\n",
       "      <td>1.0</td>\n",
       "      <td>0.969070</td>\n",
       "      <td>North Carolina</td>\n",
       "      <td>NC</td>\n",
       "      <td>Laurinburg, NC</td>\n",
       "      <td>well under budget, strong recent growth, healt...</td>\n",
       "    </tr>\n",
       "  </tbody>\n",
       "</table>\n",
       "<p>5 rows × 23 columns</p>\n",
       "</div>"
      ],
      "text/plain": [
       "   zip_code  latest_year  latest_price  cagr  price_volatility  turnover  \\\n",
       "0     15379       2015.0       35000.0   0.3               0.0       2.0   \n",
       "1     38639       2016.0       30000.0   0.3               0.0       2.0   \n",
       "2     48620       2022.0      106000.0   0.3               0.0       2.0   \n",
       "3     13649       2020.0      136000.0   0.3               0.0       2.0   \n",
       "4     28353       2025.0      148000.0   0.3               0.0       2.0   \n",
       "\n",
       "   median_dom  avg_sale_to_list  sold_above_list  off_market_2w  ...  \\\n",
       "0  144.333333          0.568282              0.0            0.0  ...   \n",
       "1  135.666667          0.845295              0.0            0.0  ...   \n",
       "2  120.000000          0.905925              0.0            0.0  ...   \n",
       "3  104.000000          0.945544              0.0            0.0  ...   \n",
       "4  315.333333          0.902972              0.0            0.0  ...   \n",
       "\n",
       "   median_dom_score  avg_sale_to_list_score  sold_above_list_score  \\\n",
       "0          0.971102                0.949043                    1.0   \n",
       "1          0.972849                0.742317                    1.0   \n",
       "2          0.976008                0.697071                    1.0   \n",
       "3          0.979234                0.667505                    1.0   \n",
       "4          0.936626                0.699275                    1.0   \n",
       "\n",
       "   market_score  stability_score  ftb_score           state  state_code  \\\n",
       "0      0.973382              1.0   0.993209    Pennsylvania          PA   \n",
       "1      0.905056              1.0   0.976148     Mississippi          MS   \n",
       "2      0.891026              1.0   0.972337        Michigan          MI   \n",
       "3      0.882246              1.0   0.970022        New York          NY   \n",
       "4      0.878634              1.0   0.969070  North Carolina          NC   \n",
       "\n",
       "   parent_metro_region                                       why_it_ranks  \n",
       "0       Pittsburgh, PA  well under budget, strong recent growth, healt...  \n",
       "1       Clarksdale, MS  well under budget, strong recent growth, healt...  \n",
       "2          Midland, MI  well under budget, strong recent growth, healt...  \n",
       "3       Ogdensburg, NY  well under budget, strong recent growth, healt...  \n",
       "4       Laurinburg, NC  well under budget, strong recent growth, healt...  \n",
       "\n",
       "[5 rows x 23 columns]"
      ]
     },
     "metadata": {},
     "output_type": "display_data"
    }
   ],
   "source": [
    "# ================================\n",
    "# 03_visualization_storytelling.ipynb\n",
    "# STEP 1 — Load data & sanity checks\n",
    "# ================================\n",
    "import pandas as pd\n",
    "import numpy as np\n",
    "from pathlib import Path\n",
    "\n",
    "# --- Paths\n",
    "PATH_CLEAN = Path(\"data/cleaned_data/redfin_cleaned.csv\")\n",
    "PATH_RANK_200 = Path(\"outputs/rankings/rank_200.csv\")\n",
    "PATH_RANK_350 = Path(\"outputs/rankings/rank_350.csv\")\n",
    "PATH_RANK_500 = Path(\"outputs/rankings/rank_500.csv\")\n",
    "\n",
    "# --- Load\n",
    "df = pd.read_csv(PATH_CLEAN)\n",
    "df.columns = [c.lower() for c in df.columns]\n",
    "df[\"period_begin\"] = pd.to_datetime(df[\"period_begin\"], errors=\"coerce\", utc=True)\n",
    "df[\"period_end\"]   = pd.to_datetime(df[\"period_end\"],   errors=\"coerce\", utc=True)\n",
    "\n",
    "rank_200 = pd.read_csv(PATH_RANK_200) if PATH_RANK_200.exists() else None\n",
    "rank_350 = pd.read_csv(PATH_RANK_350) if PATH_RANK_350.exists() else None\n",
    "rank_500 = pd.read_csv(PATH_RANK_500) if PATH_RANK_500.exists() else None\n",
    "\n",
    "print(\"Loaded frames:\")\n",
    "print({\n",
    "    \"cleaned_rows\": len(df),\n",
    "    \"rank_200\": None if rank_200 is None else len(rank_200),\n",
    "    \"rank_350\": None if rank_350 is None else len(rank_350),\n",
    "    \"rank_500\": None if rank_500 is None else len(rank_500),\n",
    "})\n",
    "\n",
    "# --- Keep just ZIP rows and minimal columns for time series plots\n",
    "df_zip = df[df.get(\"region_type\",\"zip code\").str.lower() == \"zip code\"].copy()\n",
    "df_zip[\"year\"] = df_zip[\"period_begin\"].dt.year  # already present, but re-derive for safety\n",
    "\n",
    "keep_cols = [\"zip_code\",\"year\",\"period_end\",\"median_sale_price\",\"median_sale_price_yoy\",\n",
    "             \"median_dom\",\"avg_sale_to_list\",\"sold_above_list\",\"state\",\"state_code\",\"parent_metro_region\"]\n",
    "keep_cols = [c for c in keep_cols if c in df_zip.columns]\n",
    "ts = (df_zip[keep_cols]\n",
    "      .dropna(subset=[\"zip_code\",\"year\",\"median_sale_price\"])\n",
    "      .sort_values([\"zip_code\",\"year\",\"period_end\"]))\n",
    "\n",
    "print(\"Time-series table shape:\", ts.shape)\n",
    "print(\"TS columns:\", list(ts.columns))\n",
    "\n",
    "# --- Pick 3 case-study ZIPs from the $200k list (top 3 if available)\n",
    "if rank_200 is not None and len(rank_200) > 0:\n",
    "    case_zips = rank_200[\"zip_code\"].astype(int).head(3).tolist()\n",
    "else:\n",
    "    # fallback: pick three most common zips with long history\n",
    "    case_zips = (ts.groupby(\"zip_code\")[\"year\"].nunique()\n",
    "                   .sort_values(ascending=False).head(3).index.tolist())\n",
    "\n",
    "print(\"Case-study ZIPs:\", case_zips)\n",
    "\n",
    "# Preview the top rows of each ranking table (if present)\n",
    "if rank_200 is not None:\n",
    "    print(\"\\nTop of $200k table:\")\n",
    "    display(rank_200.head(5))\n",
    "if rank_350 is not None:\n",
    "    print(\"\\nTop of $350k table:\")\n",
    "    display(rank_350.head(5))\n",
    "if rank_500 is not None:\n",
    "    print(\"\\nTop of $500k table:\")\n",
    "    display(rank_500.head(5))\n"
   ]
  },
  {
   "cell_type": "markdown",
   "id": "949fcae3-3c18-42ae-9240-0cc74e29243a",
   "metadata": {},
   "source": [
    "**Step 2 — Top ZIPs per budget + scatter (affordability vs growth)**"
   ]
  },
  {
   "cell_type": "code",
   "execution_count": 3,
   "id": "aaad7edf-e73f-4d50-a6e9-946a76fae38d",
   "metadata": {},
   "outputs": [
    {
     "data": {
      "image/png": "[encoded data removed]",
      "text/plain": [
       "<Figure size 800x500 with 1 Axes>"
      ]
     },
     "metadata": {},
     "output_type": "display_data"
    },
    {
     "data": {
      "image/png": "[encoded data removed]",
      "text/plain": [
       "<Figure size 800x500 with 1 Axes>"
      ]
     },
     "metadata": {},
     "output_type": "display_data"
    },
    {
     "data": {
      "image/png": "[encoded data removed]",
      "text/plain": [
       "<Figure size 800x500 with 1 Axes>"
      ]
     },
     "metadata": {},
     "output_type": "display_data"
    }
   ],
   "source": [
    "# ================================\n",
    "# First visualizations\n",
    "# ================================\n",
    "\n",
    "import matplotlib.pyplot as plt\n",
    "\n",
    "# ==========================\n",
    "# Annotated top ZIPs bar chart\n",
    "# ==========================\n",
    "\n",
    "def plot_top_zips(table, budget_label):\n",
    "    top10 = table.head(10)\n",
    "    fig, ax = plt.subplots(figsize=(8,5))\n",
    "    ax.barh(top10[\"zip_code\"].astype(str), top10[\"ftb_score\"], color=\"steelblue\")\n",
    "    ax.set_xlabel(\"First-time buyer score\")\n",
    "    ax.set_ylabel(\"ZIP Code\")\n",
    "    ax.set_title(f\"Top {budget_label} ZIPs\")\n",
    "    \n",
    "    # annotate with metro/state for storytelling\n",
    "    for i, (score, metro, state) in enumerate(zip(top10[\"ftb_score\"], \n",
    "                                                 top10[\"parent_metro_region\"], \n",
    "                                                 top10[\"state_code\"])):\n",
    "        ax.text(score-0.02, i, f\"{metro}, {state}\", va=\"center\", ha=\"right\", fontsize=8, color=\"white\")\n",
    "    \n",
    "    plt.show()\n",
    "\n",
    "plot_top_zips(rank_200, \"$200k\")\n",
    "plot_top_zips(rank_350, \"$350k\")\n",
    "plot_top_zips(rank_500, \"$500k\")\n"
   ]
  },
  {
   "cell_type": "markdown",
   "id": "f5cad118-66dc-4789-9439-44909fff70cb",
   "metadata": {},
   "source": [
    "**1. Top ZIPs by FTB Score (Bar Charts)**\n",
    "\n",
    "- Consistency across price tiers: The same ZIPs (like 15379 in Pittsburgh, PA and 38639 in Clarksdale, MS) appear in multiple price tiers ($200k, $350k, $500k). This suggests they combine affordability and stability in a way that makes them universally attractive to first-time buyers.\n",
    "\n",
    "- Geographic diversity: While many ZIPs are concentrated in the South and Midwest (MS, AL, TX, KS, MI, NC), we also see representation from NY and CA at higher tiers. This shows that affordability pockets exist even in states with higher general cost of living.\n",
    "\n",
    "- Score clustering: Nearly all top ZIPs have FTB scores >0.94. That means they’re all \"excellent\" candidates, and the ranking differences are marginal.\n",
    "\n",
    "**2. Affordability vs Growth (Scatter Plots)**\n",
    "\n",
    "- Flat growth signal: All scatter plots show a very tight band of CAGR values around ~0.30. This is because of the winsorization/capping step you applied earlier — so growth won’t differentiate much across ZIPs. Instead, affordability and stability are driving the FTB scores.\n",
    "\n",
    "- Color insights (FTB score shading): The higher FTB scores (yellow-green dots) are generally found at the lower end of price ranges (closer to $25k–$150k). This suggests affordability dominates the ranking: low-price homes score best, even if their growth isn’t much different.\n",
    "\n",
    "- Budget tiers: As the price ceiling increases ($200k → $350k → $500k), the scatter plots \"stretch out\" horizontally. This reflects more expensive metros being included, but they don’t automatically beat the cheaper metros on FTB score.\n",
    "\n",
    "**3. Storyline Takeaways**\n",
    "\n",
    "- \"Affordable but stable beats pricey but growing\": The analysis highlights small-town or secondary market ZIPs that aren’t booming in price but offer predictability and affordability.\n",
    "\n",
    "- Consistency matters: Locations that show up across multiple tiers could be prime case studies (e.g., Pittsburgh 15379, Midland MI, Laurinburg NC).\n",
    "\n",
    "- Limitations: Because growth (CAGR) is capped, the plots don’t show explosive growth ZIPs — only steady or modest ones. "
   ]
  },
  {
   "cell_type": "code",
   "execution_count": 14,
   "id": "60defb74-7f72-4cd6-866c-88e1b1ff09ba",
   "metadata": {},
   "outputs": [],
   "source": [
    "# ==========================================\n",
    "# Case study helper that auto-picks the table\n",
    "# ==========================================\n",
    "import pandas as pd\n",
    "import matplotlib.pyplot as plt\n",
    "\n",
    "def zip_case_study_auto(zips, ts_df, tables):\n",
    "    \"\"\"\n",
    "    Plot time series (price + market health) and print profiles for given ZIPs.\n",
    "    \n",
    "    Parameters\n",
    "    ----------\n",
    "    zips : list[int]\n",
    "        ZIP codes to analyze, e.g. [15379, 48620, 28353]\n",
    "    ts_df : pd.DataFrame\n",
    "        Time-series dataframe with at least:\n",
    "        ['zip_code','year','period_end','median_sale_price','median_dom','avg_sale_to_list']\n",
    "    tables : dict[str, pd.DataFrame]\n",
    "        Dict of budget tables, e.g. {\n",
    "            \"200k\": rank_200,\n",
    "            \"350k\": rank_350,\n",
    "            \"500k\": rank_500,\n",
    "        }\n",
    "    \"\"\"\n",
    "    # --- 1) Build a single lookup of ZIP -> latest profile (and where it came from)\n",
    "    prof_list = []\n",
    "    for label, df_rank in tables.items():\n",
    "        if df_rank is None or len(df_rank) == 0:\n",
    "            continue\n",
    "        tmp = df_rank.copy()\n",
    "        tmp[\"budget\"] = label\n",
    "        prof_list.append(tmp)\n",
    "    if not prof_list:\n",
    "        raise ValueError(\"No ranking tables provided in `tables`.\")\n",
    "    profiles_all = pd.concat(prof_list, ignore_index=True)\n",
    "    profiles_all = profiles_all.drop_duplicates(subset=[\"zip_code\"], keep=\"first\")\n",
    "\n",
    "    # Filter to requested zips (and note any missing)\n",
    "    zips = [int(z) for z in zips]\n",
    "    found_profiles = profiles_all[profiles_all[\"zip_code\"].isin(zips)].copy()\n",
    "    missing = sorted(set(zips) - set(found_profiles[\"zip_code\"].tolist()))\n",
    "    if missing:\n",
    "        print(f\"⚠️ These ZIPs were not found in any ranking table: {missing}\")\n",
    "\n",
    "    # Early exit if none found\n",
    "    if found_profiles.empty:\n",
    "        print(\"No valid ZIPs to visualize.\")\n",
    "        return\n",
    "\n",
    "    # --- 2) Time-series subset for the requested zips\n",
    "    keep_ts_cols = [c for c in [\n",
    "        \"zip_code\",\"year\",\"period_end\",\"median_sale_price\",\n",
    "        \"median_dom\",\"avg_sale_to_list\"\n",
    "    ] if c in ts_df.columns]\n",
    "    sub_ts = (ts_df[ts_df[\"zip_code\"].isin(found_profiles[\"zip_code\"])]\n",
    "                [keep_ts_cols]\n",
    "                .dropna(subset=[\"zip_code\",\"year\",\"median_sale_price\"])\n",
    "                .sort_values([\"zip_code\",\"year\",\"period_end\"]))\n",
    "\n",
    "    # --- 3) Price history\n",
    "    plt.figure(figsize=(10,6))\n",
    "    for z in found_profiles[\"zip_code\"]:\n",
    "        line = sub_ts[sub_ts[\"zip_code\"] == z]\n",
    "        label = f\"ZIP {z}\"\n",
    "        if \"budget\" in found_profiles.columns:\n",
    "            b = found_profiles.loc[found_profiles[\"zip_code\"] == z, \"budget\"].iloc[0]\n",
    "            label += f\" ({b})\"\n",
    "        plt.plot(line[\"year\"], line[\"median_sale_price\"], label=label)\n",
    "    plt.title(\"Median Sale Price Over Time\")\n",
    "    plt.xlabel(\"Year\")\n",
    "    plt.ylabel(\"Median Sale Price ($)\")\n",
    "    plt.legend()\n",
    "    plt.show()\n",
    "\n",
    "    # --- 4) Market health (DOM + sale-to-list)\n",
    "    fig, axes = plt.subplots(1, 2, figsize=(14,5), sharex=True)\n",
    "\n",
    "    for z in found_profiles[\"zip_code\"]:\n",
    "        line = sub_ts[sub_ts[\"zip_code\"] == z]\n",
    "        label = f\"ZIP {z}\"\n",
    "        if \"budget\" in found_profiles.columns:\n",
    "            b = found_profiles.loc[found_profiles[\"zip_code\"] == z, \"budget\"].iloc[0]\n",
    "            label += f\" ({b})\"\n",
    "        if \"median_dom\" in line:\n",
    "            axes[0].plot(line[\"year\"], line[\"median_dom\"], label=label)\n",
    "        if \"avg_sale_to_list\" in line:\n",
    "            axes[1].plot(line[\"year\"], line[\"avg_sale_to_list\"], label=label)\n",
    "\n",
    "    axes[0].set_title(\"Median Days on Market\")\n",
    "    axes[0].set_ylabel(\"Days\")\n",
    "    axes[1].set_title(\"Avg Sale-to-List Ratio\")\n",
    "    axes[1].set_ylabel(\"Ratio\")\n",
    "    for ax in axes: ax.legend()\n",
    "    plt.show()\n",
    "\n",
    "    # --- 5) Print concise buyer profiles\n",
    "    for _, r in found_profiles.sort_values(\"zip_code\").iterrows():\n",
    "        metro = r.get(\"parent_metro_region\", \"N/A\")\n",
    "        state = r.get(\"state_code\", r.get(\"state\", \"\"))\n",
    "        why   = r.get(\"why_it_ranks\", \"\")\n",
    "        print(f\"=== ZIP {int(r['zip_code'])} — {metro}, {state} — [{r.get('budget','N/A')}] ===\")\n",
    "        try:\n",
    "            print(f\"Latest Median Price: ${float(r['latest_price']):,.0f}\")\n",
    "        except Exception:\n",
    "            pass\n",
    "        if \"ftb_score\" in r:\n",
    "            print(f\"FTB Score: {float(r['ftb_score']):.3f}\")\n",
    "        if why:\n",
    "            print(f\"Why it ranks: {why}\")\n",
    "        print(\"-\"*70)\n"
   ]
  },
  {
   "cell_type": "code",
   "execution_count": 10,
   "id": "627fd1ae-b90a-4157-aab8-c47fcd8f31ee",
   "metadata": {},
   "outputs": [
    {
     "data": {
      "image/png": "[encoded data removed]",
      "text/plain": [
       "<Figure size 1000x600 with 1 Axes>"
      ]
     },
     "metadata": {},
     "output_type": "display_data"
    },
    {
     "data": {
      "image/png": "[encoded data removed]",
      "text/plain": [
       "<Figure size 1400x500 with 2 Axes>"
      ]
     },
     "metadata": {},
     "output_type": "display_data"
    },
    {
     "name": "stdout",
     "output_type": "stream",
     "text": [
      "=== ZIP 15379 — Pittsburgh, PA, PA — [200k] ===\n",
      "Latest Median Price: $35,000\n",
      "FTB Score: 0.993\n",
      "Why it ranks: well under budget, strong recent growth, healthy market (DOM/sale-to-list), relatively stable\n",
      "----------------------------------------------------------------------\n",
      "=== ZIP 28353 — Laurinburg, NC, NC — [200k] ===\n",
      "Latest Median Price: $148,000\n",
      "FTB Score: 0.969\n",
      "Why it ranks: well under budget, strong recent growth, healthy market (DOM/sale-to-list), relatively stable\n",
      "----------------------------------------------------------------------\n",
      "=== ZIP 48620 — Midland, MI, MI — [200k] ===\n",
      "Latest Median Price: $106,000\n",
      "FTB Score: 0.972\n",
      "Why it ranks: well under budget, strong recent growth, healthy market (DOM/sale-to-list), relatively stable\n",
      "----------------------------------------------------------------------\n"
     ]
    }
   ],
   "source": [
    "#Chosse the zip codes and ranks you are interested in!\n",
    "\n",
    "tables = {\n",
    "    \"200k\": rank_200,\n",
    "    \"350k\": rank_350,\n",
    "    \"500k\": rank_500,\n",
    "}\n",
    "\n",
    "zip_case_study_auto([15379, 48620, 28353], ts, tables)\n"
   ]
  },
  {
   "cell_type": "code",
   "execution_count": 19,
   "id": "870f961f-db23-4cd4-8f27-2e7ec715cf46",
   "metadata": {},
   "outputs": [
    {
     "name": "stdout",
     "output_type": "stream",
     "text": [
      "[diag] zip rows before geocode: 48\n",
      "[diag] rows with missing lat/lon: 0\n",
      "[diag] rows after geocode drop: 48\n"
     ]
    },
    {
     "data": {
      "application/vnd.plotly.v1+json": {
       "config": {
        "plotlyServerURL": "https://plot.ly"
       },
       "data": [
        {
         "customdata": [
          [
           "ZIP 15379<br>Score: 0.993<br>Price: $35000<br>Metro: Pittsburgh, PA<br>State: PA<br>Tier: $200k"
          ],
          [
           "ZIP 38639<br>Score: 0.976<br>Price: $30000<br>Metro: Clarksdale, MS<br>State: MS<br>Tier: $200k"
          ],
          [
           "ZIP 48620<br>Score: 0.972<br>Price: $106000<br>Metro: Midland, MI<br>State: MI<br>Tier: $200k"
          ],
          [
           "ZIP 13649<br>Score: 0.97<br>Price: $136000<br>Metro: Ogdensburg, NY<br>State: NY<br>Tier: $200k"
          ],
          [
           "ZIP 28353<br>Score: 0.969<br>Price: $148000<br>Metro: Laurinburg, NC<br>State: NC<br>Tier: $200k"
          ],
          [
           "ZIP 56631<br>Score: 0.968<br>Price: $335000<br>Metro: Grand Rapids, MN<br>State: MN<br>Tier: $350k"
          ],
          [
           "ZIP 77453<br>Score: 0.968<br>Price: $219500<br>Metro: El Campo, TX<br>State: TX<br>Tier: $350k"
          ],
          [
           "ZIP 76905<br>Score: 0.962<br>Price: $243979<br>Metro: San Angelo, TX<br>State: TX<br>Tier: $350k"
          ],
          [
           "ZIP 79765<br>Score: 0.955<br>Price: $316138<br>Metro: Midland, TX<br>State: TX<br>Tier: $350k"
          ],
          [
           "ZIP 93634<br>Score: 0.955<br>Price: $389729<br>Metro: Fresno, CA<br>State: CA<br>Tier: $500k"
          ],
          [
           "ZIP 34605<br>Score: 0.953<br>Price: $410000<br>Metro: Tampa, FL<br>State: FL<br>Tier: $500k"
          ],
          [
           "ZIP 75707<br>Score: 0.952<br>Price: $345850<br>Metro: Tyler, TX<br>State: TX<br>Tier: $350k"
          ],
          [
           "ZIP 66606<br>Score: 0.951<br>Price: $105500<br>Metro: Topeka, KS<br>State: KS<br>Tier: $200k"
          ],
          [
           "ZIP 79714<br>Score: 0.949<br>Price: $290350<br>Metro: Andrews, TX<br>State: TX<br>Tier: $350k"
          ],
          [
           "ZIP 32168<br>Score: 0.948<br>Price: $378274<br>Metro: Deltona, FL<br>State: FL<br>Tier: $500k"
          ],
          [
           "ZIP 38672<br>Score: 0.948<br>Price: $257090<br>Metro: Memphis, TN<br>State: MS<br>Tier: $350k"
          ],
          [
           "ZIP 33445<br>Score: 0.947<br>Price: $373150<br>Metro: West Palm Beach, FL<br>State: FL<br>Tier: $500k"
          ],
          [
           "ZIP 32162<br>Score: 0.947<br>Price: $389229<br>Metro: The Villages, FL<br>State: FL<br>Tier: $500k"
          ],
          [
           "ZIP 77496<br>Score: 0.947<br>Price: $225192<br>Metro: Houston, TX<br>State: TX<br>Tier: $350k"
          ],
          [
           "ZIP 83402<br>Score: 0.946<br>Price: $358880<br>Metro: Idaho Falls, ID<br>State: ID<br>Tier: $500k"
          ],
          [
           "ZIP 32779<br>Score: 0.946<br>Price: $383950<br>Metro: Orlando, FL<br>State: FL<br>Tier: $500k"
          ],
          [
           "ZIP 77043<br>Score: 0.945<br>Price: $303400<br>Metro: Houston, TX<br>State: TX<br>Tier: $350k"
          ],
          [
           "ZIP 70503<br>Score: 0.945<br>Price: $267190<br>Metro: Lafayette, LA<br>State: LA<br>Tier: $350k"
          ],
          [
           "ZIP 70634<br>Score: 0.945<br>Price: $215790<br>Metro: DeRidder, LA<br>State: LA<br>Tier: $350k"
          ],
          [
           "ZIP 85614<br>Score: 0.944<br>Price: $264500<br>Metro: Tucson, AZ<br>State: AZ<br>Tier: $350k"
          ],
          [
           "ZIP 15553<br>Score: 0.944<br>Price: $100000<br>Metro: Somerset, PA<br>State: PA<br>Tier: $200k"
          ],
          [
           "ZIP 67502<br>Score: 0.944<br>Price: $224520<br>Metro: Hutchinson, KS<br>State: KS<br>Tier: $350k"
          ],
          [
           "ZIP 79763<br>Score: 0.944<br>Price: $203862<br>Metro: Odessa, TX<br>State: TX<br>Tier: $350k"
          ],
          [
           "ZIP 77590<br>Score: 0.944<br>Price: $167460<br>Metro: Houston, TX<br>State: TX<br>Tier: $200k"
          ],
          [
           "ZIP 36330<br>Score: 0.943<br>Price: $198380<br>Metro: Enterprise, AL<br>State: AL<br>Tier: $200k"
          ],
          [
           "ZIP 77355<br>Score: 0.943<br>Price: $318646<br>Metro: Houston, TX<br>State: TX<br>Tier: $350k"
          ],
          [
           "ZIP 29579<br>Score: 0.943<br>Price: $313292<br>Metro: Myrtle Beach, SC<br>State: SC<br>Tier: $350k"
          ],
          [
           "ZIP 70563<br>Score: 0.943<br>Price: $187796<br>Metro: Lafayette, LA<br>State: LA<br>Tier: $200k"
          ],
          [
           "ZIP 32514<br>Score: 0.937<br>Price: $182860<br>Metro: Pensacola, FL<br>State: FL<br>Tier: $200k"
          ],
          [
           "ZIP 38127<br>Score: 0.936<br>Price: $78646<br>Metro: Memphis, TN<br>State: TN<br>Tier: $200k"
          ],
          [
           "ZIP 32504<br>Score: 0.935<br>Price: $189660<br>Metro: Pensacola, FL<br>State: FL<br>Tier: $200k"
          ],
          [
           "ZIP 32304<br>Score: 0.935<br>Price: $193900<br>Metro: Tallahassee, FL<br>State: FL<br>Tier: $200k"
          ],
          [
           "ZIP 70460<br>Score: 0.934<br>Price: $159850<br>Metro: New Orleans, LA<br>State: LA<br>Tier: $200k"
          ],
          [
           "ZIP 39180<br>Score: 0.933<br>Price: $123550<br>Metro: Vicksburg, MS<br>State: MS<br>Tier: $200k"
          ],
          [
           "ZIP 70560<br>Score: 0.933<br>Price: $150250<br>Metro: Lafayette, LA<br>State: LA<br>Tier: $200k"
          ],
          [
           "ZIP 47167<br>Score: 0.933<br>Price: $185500<br>Metro: Louisville, KY<br>State: IN<br>Tier: $200k"
          ],
          [
           "ZIP 77071<br>Score: 0.933<br>Price: $160899<br>Metro: Houston, TX<br>State: TX<br>Tier: $200k"
          ],
          [
           "ZIP 73644<br>Score: 0.933<br>Price: $182450<br>Metro: Elk City, OK<br>State: OK<br>Tier: $200k"
          ],
          [
           "ZIP 52803<br>Score: 0.932<br>Price: $151200<br>Metro: Davenport, IA<br>State: IA<br>Tier: $200k"
          ],
          [
           "ZIP 40219<br>Score: 0.932<br>Price: $199100<br>Metro: Louisville, KY<br>State: KY<br>Tier: $200k"
          ],
          [
           "ZIP 35150<br>Score: 0.932<br>Price: $194990<br>Metro: Talladega, AL<br>State: AL<br>Tier: $200k"
          ],
          [
           "ZIP 45885<br>Score: 0.932<br>Price: $196207<br>Metro: Wapakoneta, OH<br>State: OH<br>Tier: $200k"
          ],
          [
           "ZIP 50317<br>Score: 0.931<br>Price: $194950<br>Metro: Des Moines, IA<br>State: IA<br>Tier: $200k"
          ]
         ],
         "geo": "geo",
         "hovertemplate": "%{customdata[0]}",
         "lat": {
          "bdata": "u7iNBvAeREDJ5T+k3yZBQIj029eB40VAklz+Q/p1RkCjAbwFEmRBQC/dJAaBxUdAZapgVFI3PUCCc0aU9nY/QAAAAAAA8D9AqvHSTWKgQkDhC5OpgoE8QC1DHOviJkBArK3YX3aHQ0CMuWsJ+ShAQBE2PL1SBj1Afh04Z0R5QUD35GGh1nQ6QJAxdy0h7zxASgwCK4eGPUBX7C+7J79FQNbFbTSAtzxAPL1SliHOPUAep+hILi8+QPkx5q4l1D5ACfmgZ7PaP0AgQfFjzP1DQHS1FfvLDkNA9pfdk4fVP0ASg8DKoWU9QBB6Nqs+Vz9Am+Ydp+goPkAtIR/0bN5AQIPAyqFFBj5AZ9XnaiuGPkDjpZvEIKBBQD9XW7G/fD5AGCZTBaNyPkB7gy9Mpko+QLaEfNCzKUBAx0s3iUEAPkBos+pztU1DQGaIY13cpj1AoyO5/Ie0QUCwcmiR7cREQO/Jw0KtEUNAklz+Q/qVQEASg8DKoUVEQDxO0ZFczkRA",
          "dtype": "f8"
         },
         "legendgroup": "",
         "lon": {
          "bdata": "pb3BFyYbVMDBOSNKe5tWwL99HThnGFXABTQRNjytUsDJ5T+k395TwJf/kH77clfAofgx5q4BWMApXI/C9RhZwLdif9k9mVnA0NVW7C/LXcCJ0t7gC5tUwBx8YTJVzFfAxSCwcmjtV8ACmggbnqJZwCEf9GxWPVTAwaikTkB7VsDmP6TfvgZUwIzbaABvfVTAI9v5fmrwV8BdbcX+sgNcwBiV1AloWlTAgLdAguLjV8Aep+hILgNXwHe+nxovUVfAFYxK6gTAW8AT8kHPZrFTwNobfGEyeVjAGCZTBaOaWcCQoPgx5rpXwIv9ZffkdVXA8x/Sb1/vV8AYJlMFo75TwDlFR3L571bAxEKtad7NVcCL/WX35IFWwOtztRX7y1XAuK8D54wUVcDHuriNBnRWwEOtad5xtlbAFK5H4Xr0VsB+jLlrCYVVwDcawFsg4VfAHhZqTfPaWMCrz9VW7KNWwCo6kst/bFXA6Nms+lyRVcC3Yn/ZPRlVwIv9ZffkYVfA",
          "dtype": "f8"
         },
         "marker": {
          "color": {
           "bdata": "SS48LV/I7z+pH/x6mjzvP/JY3aRhHe8/AilLomoK7z/+KY/unwLvP4nlu2QR+e4/VbMVElP47j+EtVOwyMvuP3BS7yDqku4/uHLw3JqL7j8hoNcdnoLuPyliMnKKc+4/Qu6dtF5t7j99sJUcW1zuP3/WtDk+We4/VjMt8Y1T7j+ts4RQ+0/uP8BzZrt7T+4/WwWtG95O7j+m6zTxaUnuP1BjKf7FQu4/N56ClCc/7j9tSPEmVjzuPxXjFa+2Ou4/j1HEOC057j9Gf8q5vDTuP1Jf+/I2NO4/seiZ5Xsy7j/KAfe0ajLuP0lBnLqkMO4/plxXGNct7j8lOFBfnCzuP9Alj/wDKe4/qtDHQ0f77T8Nm8m+f/btP8ileSQ67O0/9lDxri/s7T/anhf0o+PtP9uG0SCC3e0/3BQFeAHc7T+ISp+1z9rtP9/JcWaC2e0/WtVRaTrY7T+e5IliLdXtP4kFDqEX1e0/hsOHAinU7T8xS5uMj8/tP004m0Wozu0/",
           "dtype": "f8"
          },
          "coloraxis": "coloraxis",
          "size": {
           "bdata": "AuCegWkmMEBoR5aL5v8xQFYg0J8MbyFA1gFg3GmiH0Ap1NP8SrUeQF0aYkMu2RhAXFvNwehJG0DAJZqVG5QaQLpntFAEIBlA6T0x3nQyGEAAAAAAAAAYQJ5KoDzvsxhAWK3d0vB3IUCMh46ywY8ZQIDqAUpcURhA9QgHGPlAGkBcIYhszF8YQGTFWL7EMxhAn7fq8BscG0AMs5YtLooYQKkMsSTRQRhAGIAWNtZUGUDw1rJOfgYaQIbIBt4PaRtA1xdZ36EVGkBSZhpPnd8hQMf5YjplIRtAYhQkPubUG0C2MliiAH0dQLQ5UDLRChxAAIF92x0WGUBkTTkRcisZQNJsFZbPexxAmRfRyfq0HEBHD6OclPsjQCYkl/7+ZhxAlcmbuiM5HEDiu1uzEu4dQBhLsDOOZCBAzKRwqwyNHkAr6+hSBpYcQNd8oO3Z3R1AsOEZDt65HEBgKeHcanweQAfw/SKRAxxAQLI2WKwtHEBDaIWKBiEcQOROJHwXLhxA",
           "dtype": "f8"
          },
          "sizemode": "area",
          "sizeref": 0.044999028978798844,
          "symbol": "circle"
         },
         "mode": "markers",
         "name": "",
         "showlegend": false,
         "type": "scattergeo"
        }
       ],
       "layout": {
        "coloraxis": {
         "colorbar": {
          "title": {
           "text": "FTB score"
          }
         },
         "colorscale": [
          [
           0,
           "#440154"
          ],
          [
           0.1111111111111111,
           "#482878"
          ],
          [
           0.2222222222222222,
           "#3e4989"
          ],
          [
           0.3333333333333333,
           "#31688e"
          ],
          [
           0.4444444444444444,
           "#26828e"
          ],
          [
           0.5555555555555556,
           "#1f9e89"
          ],
          [
           0.6666666666666666,
           "#35b779"
          ],
          [
           0.7777777777777778,
           "#6ece58"
          ],
          [
           0.8888888888888888,
           "#b5de2b"
          ],
          [
           1,
           "#fde725"
          ]
         ]
        },
        "geo": {
         "center": {},
         "domain": {
          "x": [
           0,
           1
          ],
          "y": [
           0,
           1
          ]
         },
         "scope": "usa"
        },
        "legend": {
         "itemsizing": "constant",
         "tracegroupgap": 0
        },
        "template": {
         "data": {
          "bar": [
           {
            "error_x": {
             "color": "#2a3f5f"
            },
            "error_y": {
             "color": "#2a3f5f"
            },
            "marker": {
             "line": {
              "color": "#E5ECF6",
              "width": 0.5
             },
             "pattern": {
              "fillmode": "overlay",
              "size": 10,
              "solidity": 0.2
             }
            },
            "type": "bar"
           }
          ],
          "barpolar": [
           {
            "marker": {
             "line": {
              "color": "#E5ECF6",
              "width": 0.5
             },
             "pattern": {
              "fillmode": "overlay",
              "size": 10,
              "solidity": 0.2
             }
            },
            "type": "barpolar"
           }
          ],
          "carpet": [
           {
            "aaxis": {
             "endlinecolor": "#2a3f5f",
             "gridcolor": "white",
             "linecolor": "white",
             "minorgridcolor": "white",
             "startlinecolor": "#2a3f5f"
            },
            "baxis": {
             "endlinecolor": "#2a3f5f",
             "gridcolor": "white",
             "linecolor": "white",
             "minorgridcolor": "white",
             "startlinecolor": "#2a3f5f"
            },
            "type": "carpet"
           }
          ],
          "choropleth": [
           {
            "colorbar": {
             "outlinewidth": 0,
             "ticks": ""
            },
            "type": "choropleth"
           }
          ],
          "contour": [
           {
            "colorbar": {
             "outlinewidth": 0,
             "ticks": ""
            },
            "colorscale": [
             [
              0,
              "#0d0887"
             ],
             [
              0.1111111111111111,
              "#46039f"
             ],
             [
              0.2222222222222222,
              "#7201a8"
             ],
             [
              0.3333333333333333,
              "#9c179e"
             ],
             [
              0.4444444444444444,
              "#bd3786"
             ],
             [
              0.5555555555555556,
              "#d8576b"
             ],
             [
              0.6666666666666666,
              "#ed7953"
             ],
             [
              0.7777777777777778,
              "#fb9f3a"
             ],
             [
              0.8888888888888888,
              "#fdca26"
             ],
             [
              1,
              "#f0f921"
             ]
            ],
            "type": "contour"
           }
          ],
          "contourcarpet": [
           {
            "colorbar": {
             "outlinewidth": 0,
             "ticks": ""
            },
            "type": "contourcarpet"
           }
          ],
          "heatmap": [
           {
            "colorbar": {
             "outlinewidth": 0,
             "ticks": ""
            },
            "colorscale": [
             [
              0,
              "#0d0887"
             ],
             [
              0.1111111111111111,
              "#46039f"
             ],
             [
              0.2222222222222222,
              "#7201a8"
             ],
             [
              0.3333333333333333,
              "#9c179e"
             ],
             [
              0.4444444444444444,
              "#bd3786"
             ],
             [
              0.5555555555555556,
              "#d8576b"
             ],
             [
              0.6666666666666666,
              "#ed7953"
             ],
             [
              0.7777777777777778,
              "#fb9f3a"
             ],
             [
              0.8888888888888888,
              "#fdca26"
             ],
             [
              1,
              "#f0f921"
             ]
            ],
            "type": "heatmap"
           }
          ],
          "histogram": [
           {
            "marker": {
             "pattern": {
              "fillmode": "overlay",
              "size": 10,
              "solidity": 0.2
             }
            },
            "type": "histogram"
           }
          ],
          "histogram2d": [
           {
            "colorbar": {
             "outlinewidth": 0,
             "ticks": ""
            },
            "colorscale": [
             [
              0,
              "#0d0887"
             ],
             [
              0.1111111111111111,
              "#46039f"
             ],
             [
              0.2222222222222222,
              "#7201a8"
             ],
             [
              0.3333333333333333,
              "#9c179e"
             ],
             [
              0.4444444444444444,
              "#bd3786"
             ],
             [
              0.5555555555555556,
              "#d8576b"
             ],
             [
              0.6666666666666666,
              "#ed7953"
             ],
             [
              0.7777777777777778,
              "#fb9f3a"
             ],
             [
              0.8888888888888888,
              "#fdca26"
             ],
             [
              1,
              "#f0f921"
             ]
            ],
            "type": "histogram2d"
           }
          ],
          "histogram2dcontour": [
           {
            "colorbar": {
             "outlinewidth": 0,
             "ticks": ""
            },
            "colorscale": [
             [
              0,
              "#0d0887"
             ],
             [
              0.1111111111111111,
              "#46039f"
             ],
             [
              0.2222222222222222,
              "#7201a8"
             ],
             [
              0.3333333333333333,
              "#9c179e"
             ],
             [
              0.4444444444444444,
              "#bd3786"
             ],
             [
              0.5555555555555556,
              "#d8576b"
             ],
             [
              0.6666666666666666,
              "#ed7953"
             ],
             [
              0.7777777777777778,
              "#fb9f3a"
             ],
             [
              0.8888888888888888,
              "#fdca26"
             ],
             [
              1,
              "#f0f921"
             ]
            ],
            "type": "histogram2dcontour"
           }
          ],
          "mesh3d": [
           {
            "colorbar": {
             "outlinewidth": 0,
             "ticks": ""
            },
            "type": "mesh3d"
           }
          ],
          "parcoords": [
           {
            "line": {
             "colorbar": {
              "outlinewidth": 0,
              "ticks": ""
             }
            },
            "type": "parcoords"
           }
          ],
          "pie": [
           {
            "automargin": true,
            "type": "pie"
           }
          ],
          "scatter": [
           {
            "fillpattern": {
             "fillmode": "overlay",
             "size": 10,
             "solidity": 0.2
            },
            "type": "scatter"
           }
          ],
          "scatter3d": [
           {
            "line": {
             "colorbar": {
              "outlinewidth": 0,
              "ticks": ""
             }
            },
            "marker": {
             "colorbar": {
              "outlinewidth": 0,
              "ticks": ""
             }
            },
            "type": "scatter3d"
           }
          ],
          "scattercarpet": [
           {
            "marker": {
             "colorbar": {
              "outlinewidth": 0,
              "ticks": ""
             }
            },
            "type": "scattercarpet"
           }
          ],
          "scattergeo": [
           {
            "marker": {
             "colorbar": {
              "outlinewidth": 0,
              "ticks": ""
             }
            },
            "type": "scattergeo"
           }
          ],
          "scattergl": [
           {
            "marker": {
             "colorbar": {
              "outlinewidth": 0,
              "ticks": ""
             }
            },
            "type": "scattergl"
           }
          ],
          "scattermap": [
           {
            "marker": {
             "colorbar": {
              "outlinewidth": 0,
              "ticks": ""
             }
            },
            "type": "scattermap"
           }
          ],
          "scattermapbox": [
           {
            "marker": {
             "colorbar": {
              "outlinewidth": 0,
              "ticks": ""
             }
            },
            "type": "scattermapbox"
           }
          ],
          "scatterpolar": [
           {
            "marker": {
             "colorbar": {
              "outlinewidth": 0,
              "ticks": ""
             }
            },
            "type": "scatterpolar"
           }
          ],
          "scatterpolargl": [
           {
            "marker": {
             "colorbar": {
              "outlinewidth": 0,
              "ticks": ""
             }
            },
            "type": "scatterpolargl"
           }
          ],
          "scatterternary": [
           {
            "marker": {
             "colorbar": {
              "outlinewidth": 0,
              "ticks": ""
             }
            },
            "type": "scatterternary"
           }
          ],
          "surface": [
           {
            "colorbar": {
             "outlinewidth": 0,
             "ticks": ""
            },
            "colorscale": [
             [
              0,
              "#0d0887"
             ],
             [
              0.1111111111111111,
              "#46039f"
             ],
             [
              0.2222222222222222,
              "#7201a8"
             ],
             [
              0.3333333333333333,
              "#9c179e"
             ],
             [
              0.4444444444444444,
              "#bd3786"
             ],
             [
              0.5555555555555556,
              "#d8576b"
             ],
             [
              0.6666666666666666,
              "#ed7953"
             ],
             [
              0.7777777777777778,
              "#fb9f3a"
             ],
             [
              0.8888888888888888,
              "#fdca26"
             ],
             [
              1,
              "#f0f921"
             ]
            ],
            "type": "surface"
           }
          ],
          "table": [
           {
            "cells": {
             "fill": {
              "color": "#EBF0F8"
             },
             "line": {
              "color": "white"
             }
            },
            "header": {
             "fill": {
              "color": "#C8D4E3"
             },
             "line": {
              "color": "white"
             }
            },
            "type": "table"
           }
          ]
         },
         "layout": {
          "annotationdefaults": {
           "arrowcolor": "#2a3f5f",
           "arrowhead": 0,
           "arrowwidth": 1
          },
          "autotypenumbers": "strict",
          "coloraxis": {
           "colorbar": {
            "outlinewidth": 0,
            "ticks": ""
           }
          },
          "colorscale": {
           "diverging": [
            [
             0,
             "#8e0152"
            ],
            [
             0.1,
             "#c51b7d"
            ],
            [
             0.2,
             "#de77ae"
            ],
            [
             0.3,
             "#f1b6da"
            ],
            [
             0.4,
             "#fde0ef"
            ],
            [
             0.5,
             "#f7f7f7"
            ],
            [
             0.6,
             "#e6f5d0"
            ],
            [
             0.7,
             "#b8e186"
            ],
            [
             0.8,
             "#7fbc41"
            ],
            [
             0.9,
             "#4d9221"
            ],
            [
             1,
             "#276419"
            ]
           ],
           "sequential": [
            [
             0,
             "#0d0887"
            ],
            [
             0.1111111111111111,
             "#46039f"
            ],
            [
             0.2222222222222222,
             "#7201a8"
            ],
            [
             0.3333333333333333,
             "#9c179e"
            ],
            [
             0.4444444444444444,
             "#bd3786"
            ],
            [
             0.5555555555555556,
             "#d8576b"
            ],
            [
             0.6666666666666666,
             "#ed7953"
            ],
            [
             0.7777777777777778,
             "#fb9f3a"
            ],
            [
             0.8888888888888888,
             "#fdca26"
            ],
            [
             1,
             "#f0f921"
            ]
           ],
           "sequentialminus": [
            [
             0,
             "#0d0887"
            ],
            [
             0.1111111111111111,
             "#46039f"
            ],
            [
             0.2222222222222222,
             "#7201a8"
            ],
            [
             0.3333333333333333,
             "#9c179e"
            ],
            [
             0.4444444444444444,
             "#bd3786"
            ],
            [
             0.5555555555555556,
             "#d8576b"
            ],
            [
             0.6666666666666666,
             "#ed7953"
            ],
            [
             0.7777777777777778,
             "#fb9f3a"
            ],
            [
             0.8888888888888888,
             "#fdca26"
            ],
            [
             1,
             "#f0f921"
            ]
           ]
          },
          "colorway": [
           "#636efa",
           "#EF553B",
           "#00cc96",
           "#ab63fa",
           "#FFA15A",
           "#19d3f3",
           "#FF6692",
           "#B6E880",
           "#FF97FF",
           "#FECB52"
          ],
          "font": {
           "color": "#2a3f5f"
          },
          "geo": {
           "bgcolor": "white",
           "lakecolor": "white",
           "landcolor": "#E5ECF6",
           "showlakes": true,
           "showland": true,
           "subunitcolor": "white"
          },
          "hoverlabel": {
           "align": "left"
          },
          "hovermode": "closest",
          "mapbox": {
           "style": "light"
          },
          "paper_bgcolor": "white",
          "plot_bgcolor": "#E5ECF6",
          "polar": {
           "angularaxis": {
            "gridcolor": "white",
            "linecolor": "white",
            "ticks": ""
           },
           "bgcolor": "#E5ECF6",
           "radialaxis": {
            "gridcolor": "white",
            "linecolor": "white",
            "ticks": ""
           }
          },
          "scene": {
           "xaxis": {
            "backgroundcolor": "#E5ECF6",
            "gridcolor": "white",
            "gridwidth": 2,
            "linecolor": "white",
            "showbackground": true,
            "ticks": "",
            "zerolinecolor": "white"
           },
           "yaxis": {
            "backgroundcolor": "#E5ECF6",
            "gridcolor": "white",
            "gridwidth": 2,
            "linecolor": "white",
            "showbackground": true,
            "ticks": "",
            "zerolinecolor": "white"
           },
           "zaxis": {
            "backgroundcolor": "#E5ECF6",
            "gridcolor": "white",
            "gridwidth": 2,
            "linecolor": "white",
            "showbackground": true,
            "ticks": "",
            "zerolinecolor": "white"
           }
          },
          "shapedefaults": {
           "line": {
            "color": "#2a3f5f"
           }
          },
          "ternary": {
           "aaxis": {
            "gridcolor": "white",
            "linecolor": "white",
            "ticks": ""
           },
           "baxis": {
            "gridcolor": "white",
            "linecolor": "white",
            "ticks": ""
           },
           "bgcolor": "#E5ECF6",
           "caxis": {
            "gridcolor": "white",
            "linecolor": "white",
            "ticks": ""
           }
          },
          "title": {
           "x": 0.05
          },
          "xaxis": {
           "automargin": true,
           "gridcolor": "white",
           "linecolor": "white",
           "ticks": "",
           "title": {
            "standoff": 15
           },
           "zerolinecolor": "white",
           "zerolinewidth": 2
          },
          "yaxis": {
           "automargin": true,
           "gridcolor": "white",
           "linecolor": "white",
           "ticks": "",
           "title": {
            "standoff": 15
           },
           "zerolinecolor": "white",
           "zerolinewidth": 2
          }
         }
        },
        "title": {
         "text": "Top ZIPs for First-Time Buyers — colored by FTB score (n=48)"
        }
       }
      }
     },
     "metadata": {},
     "output_type": "display_data"
    },
    {
     "name": "stdout",
     "output_type": "stream",
     "text": [
      "Saved interactive map to: outputs/figures/ftb_zip_map.html\n"
     ]
    }
   ],
   "source": [
    "# ==========================\n",
    "# MAP: ZIP-level scatter (FTB score) — fixed geocode via nomi._data\n",
    "# ==========================\n",
    "import pandas as pd\n",
    "import numpy as np\n",
    "from pathlib import Path\n",
    "\n",
    "# deps\n",
    "try:\n",
    "    import pgeocode\n",
    "except ImportError:\n",
    "    import sys, subprocess\n",
    "    subprocess.check_call([sys.executable, \"-m\", \"pip\", \"install\", \"pgeocode\"])\n",
    "    import pgeocode\n",
    "\n",
    "try:\n",
    "    import plotly.express as px\n",
    "except ImportError:\n",
    "    import sys, subprocess\n",
    "    subprocess.check_call([sys.executable, \"-m\", \"pip\", \"install\", \"plotly\"])\n",
    "    import plotly.express as px\n",
    "\n",
    "# pick up your existing ranking tables (rank_200/350/500 or best_*_geo)\n",
    "g = globals()\n",
    "rank_200 = g.get(\"rank_200\", g.get(\"best_200k_geo\"))\n",
    "rank_350 = g.get(\"rank_350\", g.get(\"best_350k_geo\"))\n",
    "rank_500 = g.get(\"rank_500\", g.get(\"best_500k_geo\"))\n",
    "\n",
    "def _load_rank(tbl):\n",
    "    return tbl if isinstance(tbl, pd.DataFrame) and len(tbl) else pd.DataFrame()\n",
    "\n",
    "rank_all = pd.concat([\n",
    "    _load_rank(rank_200).assign(budget=\"$200k\"),\n",
    "    _load_rank(rank_350).assign(budget=\"$350k\"),\n",
    "    _load_rank(rank_500).assign(budget=\"$500k\"),\n",
    "], ignore_index=True)\n",
    "\n",
    "if rank_all.empty:\n",
    "    raise ValueError(\"No ranking tables found.\")\n",
    "\n",
    "# Clean + dedupe and normalize ZIPs to 5-char strings\n",
    "cols_keep = [\"zip_code\",\"ftb_score\",\"latest_price\",\"state\",\"state_code\",\"parent_metro_region\",\"budget\"]\n",
    "cols_keep = [c for c in cols_keep if c in rank_all.columns]\n",
    "z = (rank_all[cols_keep]\n",
    "     .dropna(subset=[\"zip_code\",\"ftb_score\"])\n",
    "     .drop_duplicates(subset=[\"zip_code\"])\n",
    "     .copy())\n",
    "z[\"zip_code\"] = z[\"zip_code\"].astype(int).astype(str).str.zfill(5)\n",
    "\n",
    "TOP_N = 250\n",
    "z = z.sort_values(\"ftb_score\", ascending=False).head(TOP_N).copy()\n",
    "print(f\"[diag] zip rows before geocode: {len(z)}\")\n",
    "\n",
    "# --- FIXED GEOCODE MERGE (use pgeocode's built-in data table)\n",
    "nomi = pgeocode.Nominatim(\"us\")\n",
    "geo_all = nomi._data[[\"postal_code\",\"latitude\",\"longitude\"]].copy()\n",
    "geo_all[\"postal_code\"] = geo_all[\"postal_code\"].astype(str).str.zfill(5)\n",
    "geo_all = geo_all.dropna(subset=[\"latitude\",\"longitude\"])\n",
    "\n",
    "z_geo = z.merge(geo_all, left_on=\"zip_code\", right_on=\"postal_code\", how=\"left\")\n",
    "z_geo = z_geo.drop(columns=[\"postal_code\"])\n",
    "missing_ll = z_geo[[\"latitude\",\"longitude\"]].isna().any(axis=1).sum()\n",
    "print(f\"[diag] rows with missing lat/lon: {missing_ll}\")\n",
    "\n",
    "z_geo = z_geo.dropna(subset=[\"latitude\",\"longitude\"]).copy()\n",
    "print(f\"[diag] rows after geocode drop: {len(z_geo)}\")\n",
    "if z_geo.empty:\n",
    "    raise RuntimeError(\"All ZIPs missing coordinates after geocoding (unexpected).\")\n",
    "\n",
    "# Bubble size (bigger for cheaper zips)\n",
    "price = z_geo[\"latest_price\"].astype(float).clip(lower=1)\n",
    "inv = 1 / price\n",
    "z_geo[\"bubble_size\"] = 6 + 12 * (inv - inv.min()) / (inv.max() - inv.min() + 1e-9)\n",
    "\n",
    "# Hover text\n",
    "z_geo[\"hover\"] = (\n",
    "    \"ZIP \" + z_geo[\"zip_code\"] +\n",
    "    \"<br>Score: \" + z_geo[\"ftb_score\"].round(3).astype(str) +\n",
    "    \"<br>Price: $\" + z_geo[\"latest_price\"].round(0).astype(int).astype(str) +\n",
    "    \"<br>Metro: \" + z_geo.get(\"parent_metro_region\",\"N/A\").fillna(\"N/A\") +\n",
    "    \"<br>State: \" + z_geo.get(\"state_code\", z_geo.get(\"state\",\"\")).astype(str) +\n",
    "    \"<br>Tier: \" + z_geo.get(\"budget\",\"\").astype(str)\n",
    ")\n",
    "\n",
    "# Plot\n",
    "fig = px.scatter_geo(\n",
    "    z_geo,\n",
    "    lat=\"latitude\",\n",
    "    lon=\"longitude\",\n",
    "    color=\"ftb_score\",\n",
    "    size=\"bubble_size\",\n",
    "    custom_data=[\"hover\"],\n",
    "    color_continuous_scale=\"Viridis\",\n",
    "    scope=\"usa\",\n",
    "    title=f\"Top ZIPs for First-Time Buyers — colored by FTB score (n={len(z_geo)})\"\n",
    ")\n",
    "fig.update_traces(hovertemplate=\"%{customdata[0]}\")\n",
    "fig.update_layout(coloraxis_colorbar=dict(title=\"FTB score\"))\n",
    "\n",
    "# Save & show\n",
    "Path(\"outputs/figures\").mkdir(parents=True, exist_ok=True)\n",
    "out_html = Path(\"outputs/figures/ftb_zip_map.html\")\n",
    "fig.write_html(out_html)\n",
    "fig.show()\n",
    "print(f\"Saved interactive map to: {out_html}\")\n"
   ]
  },
  {
   "cell_type": "code",
   "execution_count": 20,
   "id": "58f3ff2a-eaec-4a86-a485-becb8726e2de",
   "metadata": {},
   "outputs": [
    {
     "data": {
      "application/vnd.plotly.v1+json": {
       "config": {
        "plotlyServerURL": "https://plot.ly"
       },
       "data": [
        {
         "customdata": [
          [
           "ZIP 15379<br>Score: 0.993<br>Price: $35000<br>Metro: Pittsburgh, PA<br>State: PA<br>Tier: $200k"
          ],
          [
           "ZIP 38639<br>Score: 0.976<br>Price: $30000<br>Metro: Clarksdale, MS<br>State: MS<br>Tier: $200k"
          ],
          [
           "ZIP 48620<br>Score: 0.972<br>Price: $106000<br>Metro: Midland, MI<br>State: MI<br>Tier: $200k"
          ],
          [
           "ZIP 13649<br>Score: 0.97<br>Price: $136000<br>Metro: Ogdensburg, NY<br>State: NY<br>Tier: $200k"
          ],
          [
           "ZIP 28353<br>Score: 0.969<br>Price: $148000<br>Metro: Laurinburg, NC<br>State: NC<br>Tier: $200k"
          ],
          [
           "ZIP 56631<br>Score: 0.968<br>Price: $335000<br>Metro: Grand Rapids, MN<br>State: MN<br>Tier: $350k"
          ],
          [
           "ZIP 77453<br>Score: 0.968<br>Price: $219500<br>Metro: El Campo, TX<br>State: TX<br>Tier: $350k"
          ],
          [
           "ZIP 76905<br>Score: 0.962<br>Price: $243979<br>Metro: San Angelo, TX<br>State: TX<br>Tier: $350k"
          ],
          [
           "ZIP 79765<br>Score: 0.955<br>Price: $316138<br>Metro: Midland, TX<br>State: TX<br>Tier: $350k"
          ],
          [
           "ZIP 93634<br>Score: 0.955<br>Price: $389729<br>Metro: Fresno, CA<br>State: CA<br>Tier: $500k"
          ],
          [
           "ZIP 34605<br>Score: 0.953<br>Price: $410000<br>Metro: Tampa, FL<br>State: FL<br>Tier: $500k"
          ],
          [
           "ZIP 75707<br>Score: 0.952<br>Price: $345850<br>Metro: Tyler, TX<br>State: TX<br>Tier: $350k"
          ],
          [
           "ZIP 66606<br>Score: 0.951<br>Price: $105500<br>Metro: Topeka, KS<br>State: KS<br>Tier: $200k"
          ],
          [
           "ZIP 79714<br>Score: 0.949<br>Price: $290350<br>Metro: Andrews, TX<br>State: TX<br>Tier: $350k"
          ],
          [
           "ZIP 32168<br>Score: 0.948<br>Price: $378274<br>Metro: Deltona, FL<br>State: FL<br>Tier: $500k"
          ],
          [
           "ZIP 38672<br>Score: 0.948<br>Price: $257090<br>Metro: Memphis, TN<br>State: MS<br>Tier: $350k"
          ],
          [
           "ZIP 33445<br>Score: 0.947<br>Price: $373150<br>Metro: West Palm Beach, FL<br>State: FL<br>Tier: $500k"
          ],
          [
           "ZIP 32162<br>Score: 0.947<br>Price: $389229<br>Metro: The Villages, FL<br>State: FL<br>Tier: $500k"
          ],
          [
           "ZIP 77496<br>Score: 0.947<br>Price: $225192<br>Metro: Houston, TX<br>State: TX<br>Tier: $350k"
          ],
          [
           "ZIP 83402<br>Score: 0.946<br>Price: $358880<br>Metro: Idaho Falls, ID<br>State: ID<br>Tier: $500k"
          ],
          [
           "ZIP 32779<br>Score: 0.946<br>Price: $383950<br>Metro: Orlando, FL<br>State: FL<br>Tier: $500k"
          ],
          [
           "ZIP 77043<br>Score: 0.945<br>Price: $303400<br>Metro: Houston, TX<br>State: TX<br>Tier: $350k"
          ],
          [
           "ZIP 70503<br>Score: 0.945<br>Price: $267190<br>Metro: Lafayette, LA<br>State: LA<br>Tier: $350k"
          ],
          [
           "ZIP 70634<br>Score: 0.945<br>Price: $215790<br>Metro: DeRidder, LA<br>State: LA<br>Tier: $350k"
          ],
          [
           "ZIP 85614<br>Score: 0.944<br>Price: $264500<br>Metro: Tucson, AZ<br>State: AZ<br>Tier: $350k"
          ],
          [
           "ZIP 15553<br>Score: 0.944<br>Price: $100000<br>Metro: Somerset, PA<br>State: PA<br>Tier: $200k"
          ],
          [
           "ZIP 67502<br>Score: 0.944<br>Price: $224520<br>Metro: Hutchinson, KS<br>State: KS<br>Tier: $350k"
          ],
          [
           "ZIP 79763<br>Score: 0.944<br>Price: $203862<br>Metro: Odessa, TX<br>State: TX<br>Tier: $350k"
          ],
          [
           "ZIP 77590<br>Score: 0.944<br>Price: $167460<br>Metro: Houston, TX<br>State: TX<br>Tier: $200k"
          ],
          [
           "ZIP 36330<br>Score: 0.943<br>Price: $198380<br>Metro: Enterprise, AL<br>State: AL<br>Tier: $200k"
          ],
          [
           "ZIP 77355<br>Score: 0.943<br>Price: $318646<br>Metro: Houston, TX<br>State: TX<br>Tier: $350k"
          ],
          [
           "ZIP 29579<br>Score: 0.943<br>Price: $313292<br>Metro: Myrtle Beach, SC<br>State: SC<br>Tier: $350k"
          ],
          [
           "ZIP 70563<br>Score: 0.943<br>Price: $187796<br>Metro: Lafayette, LA<br>State: LA<br>Tier: $200k"
          ],
          [
           "ZIP 32514<br>Score: 0.937<br>Price: $182860<br>Metro: Pensacola, FL<br>State: FL<br>Tier: $200k"
          ],
          [
           "ZIP 38127<br>Score: 0.936<br>Price: $78646<br>Metro: Memphis, TN<br>State: TN<br>Tier: $200k"
          ],
          [
           "ZIP 32504<br>Score: 0.935<br>Price: $189660<br>Metro: Pensacola, FL<br>State: FL<br>Tier: $200k"
          ],
          [
           "ZIP 32304<br>Score: 0.935<br>Price: $193900<br>Metro: Tallahassee, FL<br>State: FL<br>Tier: $200k"
          ],
          [
           "ZIP 70460<br>Score: 0.934<br>Price: $159850<br>Metro: New Orleans, LA<br>State: LA<br>Tier: $200k"
          ],
          [
           "ZIP 39180<br>Score: 0.933<br>Price: $123550<br>Metro: Vicksburg, MS<br>State: MS<br>Tier: $200k"
          ],
          [
           "ZIP 70560<br>Score: 0.933<br>Price: $150250<br>Metro: Lafayette, LA<br>State: LA<br>Tier: $200k"
          ],
          [
           "ZIP 47167<br>Score: 0.933<br>Price: $185500<br>Metro: Louisville, KY<br>State: IN<br>Tier: $200k"
          ],
          [
           "ZIP 77071<br>Score: 0.933<br>Price: $160899<br>Metro: Houston, TX<br>State: TX<br>Tier: $200k"
          ],
          [
           "ZIP 73644<br>Score: 0.933<br>Price: $182450<br>Metro: Elk City, OK<br>State: OK<br>Tier: $200k"
          ],
          [
           "ZIP 52803<br>Score: 0.932<br>Price: $151200<br>Metro: Davenport, IA<br>State: IA<br>Tier: $200k"
          ],
          [
           "ZIP 40219<br>Score: 0.932<br>Price: $199100<br>Metro: Louisville, KY<br>State: KY<br>Tier: $200k"
          ],
          [
           "ZIP 35150<br>Score: 0.932<br>Price: $194990<br>Metro: Talladega, AL<br>State: AL<br>Tier: $200k"
          ],
          [
           "ZIP 45885<br>Score: 0.932<br>Price: $196207<br>Metro: Wapakoneta, OH<br>State: OH<br>Tier: $200k"
          ],
          [
           "ZIP 50317<br>Score: 0.931<br>Price: $194950<br>Metro: Des Moines, IA<br>State: IA<br>Tier: $200k"
          ]
         ],
         "geo": "geo",
         "hovertemplate": "%{customdata[0]}",
         "lat": {
          "bdata": "u7iNBvAeREDJ5T+k3yZBQIj029eB40VAklz+Q/p1RkCjAbwFEmRBQC/dJAaBxUdAZapgVFI3PUCCc0aU9nY/QAAAAAAA8D9AqvHSTWKgQkDhC5OpgoE8QC1DHOviJkBArK3YX3aHQ0CMuWsJ+ShAQBE2PL1SBj1Afh04Z0R5QUD35GGh1nQ6QJAxdy0h7zxASgwCK4eGPUBX7C+7J79FQNbFbTSAtzxAPL1SliHOPUAep+hILi8+QPkx5q4l1D5ACfmgZ7PaP0AgQfFjzP1DQHS1FfvLDkNA9pfdk4fVP0ASg8DKoWU9QBB6Nqs+Vz9Am+Ydp+goPkAtIR/0bN5AQIPAyqFFBj5AZ9XnaiuGPkDjpZvEIKBBQD9XW7G/fD5AGCZTBaNyPkB7gy9Mpko+QLaEfNCzKUBAx0s3iUEAPkBos+pztU1DQGaIY13cpj1AoyO5/Ie0QUCwcmiR7cREQO/Jw0KtEUNAklz+Q/qVQEASg8DKoUVEQDxO0ZFczkRA",
          "dtype": "f8"
         },
         "legendgroup": "",
         "lon": {
          "bdata": "pb3BFyYbVMDBOSNKe5tWwL99HThnGFXABTQRNjytUsDJ5T+k395TwJf/kH77clfAofgx5q4BWMApXI/C9RhZwLdif9k9mVnA0NVW7C/LXcCJ0t7gC5tUwBx8YTJVzFfAxSCwcmjtV8ACmggbnqJZwCEf9GxWPVTAwaikTkB7VsDmP6TfvgZUwIzbaABvfVTAI9v5fmrwV8BdbcX+sgNcwBiV1AloWlTAgLdAguLjV8Aep+hILgNXwHe+nxovUVfAFYxK6gTAW8AT8kHPZrFTwNobfGEyeVjAGCZTBaOaWcCQoPgx5rpXwIv9ZffkdVXA8x/Sb1/vV8AYJlMFo75TwDlFR3L571bAxEKtad7NVcCL/WX35IFWwOtztRX7y1XAuK8D54wUVcDHuriNBnRWwEOtad5xtlbAFK5H4Xr0VsB+jLlrCYVVwDcawFsg4VfAHhZqTfPaWMCrz9VW7KNWwCo6kst/bFXA6Nms+lyRVcC3Yn/ZPRlVwIv9ZffkYVfA",
          "dtype": "f8"
         },
         "marker": {
          "color": {
           "bdata": "SS48LV/I7z+pH/x6mjzvP/JY3aRhHe8/AilLomoK7z/+KY/unwLvP4nlu2QR+e4/VbMVElP47j+EtVOwyMvuP3BS7yDqku4/uHLw3JqL7j8hoNcdnoLuPyliMnKKc+4/Qu6dtF5t7j99sJUcW1zuP3/WtDk+We4/VjMt8Y1T7j+ts4RQ+0/uP8BzZrt7T+4/WwWtG95O7j+m6zTxaUnuP1BjKf7FQu4/N56ClCc/7j9tSPEmVjzuPxXjFa+2Ou4/j1HEOC057j9Gf8q5vDTuP1Jf+/I2NO4/seiZ5Xsy7j/KAfe0ajLuP0lBnLqkMO4/plxXGNct7j8lOFBfnCzuP9Alj/wDKe4/qtDHQ0f77T8Nm8m+f/btP8ileSQ67O0/9lDxri/s7T/anhf0o+PtP9uG0SCC3e0/3BQFeAHc7T+ISp+1z9rtP9/JcWaC2e0/WtVRaTrY7T+e5IliLdXtP4kFDqEX1e0/hsOHAinU7T8xS5uMj8/tP004m0Wozu0/",
           "dtype": "f8"
          },
          "coloraxis": "coloraxis",
          "size": {
           "bdata": "AuCegWkmMEBoR5aL5v8xQFYg0J8MbyFA1gFg3GmiH0Ap1NP8SrUeQF0aYkMu2RhAXFvNwehJG0DAJZqVG5QaQLpntFAEIBlA6T0x3nQyGEAAAAAAAAAYQJ5KoDzvsxhAWK3d0vB3IUCMh46ywY8ZQIDqAUpcURhA9QgHGPlAGkBcIYhszF8YQGTFWL7EMxhAn7fq8BscG0AMs5YtLooYQKkMsSTRQRhAGIAWNtZUGUDw1rJOfgYaQIbIBt4PaRtA1xdZ36EVGkBSZhpPnd8hQMf5YjplIRtAYhQkPubUG0C2MliiAH0dQLQ5UDLRChxAAIF92x0WGUBkTTkRcisZQNJsFZbPexxAmRfRyfq0HEBHD6OclPsjQCYkl/7+ZhxAlcmbuiM5HEDiu1uzEu4dQBhLsDOOZCBAzKRwqwyNHkAr6+hSBpYcQNd8oO3Z3R1AsOEZDt65HEBgKeHcanweQAfw/SKRAxxAQLI2WKwtHEBDaIWKBiEcQOROJHwXLhxA",
           "dtype": "f8"
          },
          "sizemode": "area",
          "sizeref": 0.044999028978798844,
          "symbol": "circle"
         },
         "mode": "markers",
         "name": "",
         "showlegend": false,
         "type": "scattergeo"
        }
       ],
       "layout": {
        "coloraxis": {
         "colorbar": {
          "title": {
           "text": "FTB score"
          }
         },
         "colorscale": [
          [
           0,
           "#440154"
          ],
          [
           0.1111111111111111,
           "#482878"
          ],
          [
           0.2222222222222222,
           "#3e4989"
          ],
          [
           0.3333333333333333,
           "#31688e"
          ],
          [
           0.4444444444444444,
           "#26828e"
          ],
          [
           0.5555555555555556,
           "#1f9e89"
          ],
          [
           0.6666666666666666,
           "#35b779"
          ],
          [
           0.7777777777777778,
           "#6ece58"
          ],
          [
           0.8888888888888888,
           "#b5de2b"
          ],
          [
           1,
           "#fde725"
          ]
         ]
        },
        "geo": {
         "center": {},
         "domain": {
          "x": [
           0,
           1
          ],
          "y": [
           0,
           1
          ]
         },
         "scope": "usa"
        },
        "legend": {
         "itemsizing": "constant",
         "tracegroupgap": 0
        },
        "template": {
         "data": {
          "bar": [
           {
            "error_x": {
             "color": "#2a3f5f"
            },
            "error_y": {
             "color": "#2a3f5f"
            },
            "marker": {
             "line": {
              "color": "#E5ECF6",
              "width": 0.5
             },
             "pattern": {
              "fillmode": "overlay",
              "size": 10,
              "solidity": 0.2
             }
            },
            "type": "bar"
           }
          ],
          "barpolar": [
           {
            "marker": {
             "line": {
              "color": "#E5ECF6",
              "width": 0.5
             },
             "pattern": {
              "fillmode": "overlay",
              "size": 10,
              "solidity": 0.2
             }
            },
            "type": "barpolar"
           }
          ],
          "carpet": [
           {
            "aaxis": {
             "endlinecolor": "#2a3f5f",
             "gridcolor": "white",
             "linecolor": "white",
             "minorgridcolor": "white",
             "startlinecolor": "#2a3f5f"
            },
            "baxis": {
             "endlinecolor": "#2a3f5f",
             "gridcolor": "white",
             "linecolor": "white",
             "minorgridcolor": "white",
             "startlinecolor": "#2a3f5f"
            },
            "type": "carpet"
           }
          ],
          "choropleth": [
           {
            "colorbar": {
             "outlinewidth": 0,
             "ticks": ""
            },
            "type": "choropleth"
           }
          ],
          "contour": [
           {
            "colorbar": {
             "outlinewidth": 0,
             "ticks": ""
            },
            "colorscale": [
             [
              0,
              "#0d0887"
             ],
             [
              0.1111111111111111,
              "#46039f"
             ],
             [
              0.2222222222222222,
              "#7201a8"
             ],
             [
              0.3333333333333333,
              "#9c179e"
             ],
             [
              0.4444444444444444,
              "#bd3786"
             ],
             [
              0.5555555555555556,
              "#d8576b"
             ],
             [
              0.6666666666666666,
              "#ed7953"
             ],
             [
              0.7777777777777778,
              "#fb9f3a"
             ],
             [
              0.8888888888888888,
              "#fdca26"
             ],
             [
              1,
              "#f0f921"
             ]
            ],
            "type": "contour"
           }
          ],
          "contourcarpet": [
           {
            "colorbar": {
             "outlinewidth": 0,
             "ticks": ""
            },
            "type": "contourcarpet"
           }
          ],
          "heatmap": [
           {
            "colorbar": {
             "outlinewidth": 0,
             "ticks": ""
            },
            "colorscale": [
             [
              0,
              "#0d0887"
             ],
             [
              0.1111111111111111,
              "#46039f"
             ],
             [
              0.2222222222222222,
              "#7201a8"
             ],
             [
              0.3333333333333333,
              "#9c179e"
             ],
             [
              0.4444444444444444,
              "#bd3786"
             ],
             [
              0.5555555555555556,
              "#d8576b"
             ],
             [
              0.6666666666666666,
              "#ed7953"
             ],
             [
              0.7777777777777778,
              "#fb9f3a"
             ],
             [
              0.8888888888888888,
              "#fdca26"
             ],
             [
              1,
              "#f0f921"
             ]
            ],
            "type": "heatmap"
           }
          ],
          "histogram": [
           {
            "marker": {
             "pattern": {
              "fillmode": "overlay",
              "size": 10,
              "solidity": 0.2
             }
            },
            "type": "histogram"
           }
          ],
          "histogram2d": [
           {
            "colorbar": {
             "outlinewidth": 0,
             "ticks": ""
            },
            "colorscale": [
             [
              0,
              "#0d0887"
             ],
             [
              0.1111111111111111,
              "#46039f"
             ],
             [
              0.2222222222222222,
              "#7201a8"
             ],
             [
              0.3333333333333333,
              "#9c179e"
             ],
             [
              0.4444444444444444,
              "#bd3786"
             ],
             [
              0.5555555555555556,
              "#d8576b"
             ],
             [
              0.6666666666666666,
              "#ed7953"
             ],
             [
              0.7777777777777778,
              "#fb9f3a"
             ],
             [
              0.8888888888888888,
              "#fdca26"
             ],
             [
              1,
              "#f0f921"
             ]
            ],
            "type": "histogram2d"
           }
          ],
          "histogram2dcontour": [
           {
            "colorbar": {
             "outlinewidth": 0,
             "ticks": ""
            },
            "colorscale": [
             [
              0,
              "#0d0887"
             ],
             [
              0.1111111111111111,
              "#46039f"
             ],
             [
              0.2222222222222222,
              "#7201a8"
             ],
             [
              0.3333333333333333,
              "#9c179e"
             ],
             [
              0.4444444444444444,
              "#bd3786"
             ],
             [
              0.5555555555555556,
              "#d8576b"
             ],
             [
              0.6666666666666666,
              "#ed7953"
             ],
             [
              0.7777777777777778,
              "#fb9f3a"
             ],
             [
              0.8888888888888888,
              "#fdca26"
             ],
             [
              1,
              "#f0f921"
             ]
            ],
            "type": "histogram2dcontour"
           }
          ],
          "mesh3d": [
           {
            "colorbar": {
             "outlinewidth": 0,
             "ticks": ""
            },
            "type": "mesh3d"
           }
          ],
          "parcoords": [
           {
            "line": {
             "colorbar": {
              "outlinewidth": 0,
              "ticks": ""
             }
            },
            "type": "parcoords"
           }
          ],
          "pie": [
           {
            "automargin": true,
            "type": "pie"
           }
          ],
          "scatter": [
           {
            "fillpattern": {
             "fillmode": "overlay",
             "size": 10,
             "solidity": 0.2
            },
            "type": "scatter"
           }
          ],
          "scatter3d": [
           {
            "line": {
             "colorbar": {
              "outlinewidth": 0,
              "ticks": ""
             }
            },
            "marker": {
             "colorbar": {
              "outlinewidth": 0,
              "ticks": ""
             }
            },
            "type": "scatter3d"
           }
          ],
          "scattercarpet": [
           {
            "marker": {
             "colorbar": {
              "outlinewidth": 0,
              "ticks": ""
             }
            },
            "type": "scattercarpet"
           }
          ],
          "scattergeo": [
           {
            "marker": {
             "colorbar": {
              "outlinewidth": 0,
              "ticks": ""
             }
            },
            "type": "scattergeo"
           }
          ],
          "scattergl": [
           {
            "marker": {
             "colorbar": {
              "outlinewidth": 0,
              "ticks": ""
             }
            },
            "type": "scattergl"
           }
          ],
          "scattermap": [
           {
            "marker": {
             "colorbar": {
              "outlinewidth": 0,
              "ticks": ""
             }
            },
            "type": "scattermap"
           }
          ],
          "scattermapbox": [
           {
            "marker": {
             "colorbar": {
              "outlinewidth": 0,
              "ticks": ""
             }
            },
            "type": "scattermapbox"
           }
          ],
          "scatterpolar": [
           {
            "marker": {
             "colorbar": {
              "outlinewidth": 0,
              "ticks": ""
             }
            },
            "type": "scatterpolar"
           }
          ],
          "scatterpolargl": [
           {
            "marker": {
             "colorbar": {
              "outlinewidth": 0,
              "ticks": ""
             }
            },
            "type": "scatterpolargl"
           }
          ],
          "scatterternary": [
           {
            "marker": {
             "colorbar": {
              "outlinewidth": 0,
              "ticks": ""
             }
            },
            "type": "scatterternary"
           }
          ],
          "surface": [
           {
            "colorbar": {
             "outlinewidth": 0,
             "ticks": ""
            },
            "colorscale": [
             [
              0,
              "#0d0887"
             ],
             [
              0.1111111111111111,
              "#46039f"
             ],
             [
              0.2222222222222222,
              "#7201a8"
             ],
             [
              0.3333333333333333,
              "#9c179e"
             ],
             [
              0.4444444444444444,
              "#bd3786"
             ],
             [
              0.5555555555555556,
              "#d8576b"
             ],
             [
              0.6666666666666666,
              "#ed7953"
             ],
             [
              0.7777777777777778,
              "#fb9f3a"
             ],
             [
              0.8888888888888888,
              "#fdca26"
             ],
             [
              1,
              "#f0f921"
             ]
            ],
            "type": "surface"
           }
          ],
          "table": [
           {
            "cells": {
             "fill": {
              "color": "#EBF0F8"
             },
             "line": {
              "color": "white"
             }
            },
            "header": {
             "fill": {
              "color": "#C8D4E3"
             },
             "line": {
              "color": "white"
             }
            },
            "type": "table"
           }
          ]
         },
         "layout": {
          "annotationdefaults": {
           "arrowcolor": "#2a3f5f",
           "arrowhead": 0,
           "arrowwidth": 1
          },
          "autotypenumbers": "strict",
          "coloraxis": {
           "colorbar": {
            "outlinewidth": 0,
            "ticks": ""
           }
          },
          "colorscale": {
           "diverging": [
            [
             0,
             "#8e0152"
            ],
            [
             0.1,
             "#c51b7d"
            ],
            [
             0.2,
             "#de77ae"
            ],
            [
             0.3,
             "#f1b6da"
            ],
            [
             0.4,
             "#fde0ef"
            ],
            [
             0.5,
             "#f7f7f7"
            ],
            [
             0.6,
             "#e6f5d0"
            ],
            [
             0.7,
             "#b8e186"
            ],
            [
             0.8,
             "#7fbc41"
            ],
            [
             0.9,
             "#4d9221"
            ],
            [
             1,
             "#276419"
            ]
           ],
           "sequential": [
            [
             0,
             "#0d0887"
            ],
            [
             0.1111111111111111,
             "#46039f"
            ],
            [
             0.2222222222222222,
             "#7201a8"
            ],
            [
             0.3333333333333333,
             "#9c179e"
            ],
            [
             0.4444444444444444,
             "#bd3786"
            ],
            [
             0.5555555555555556,
             "#d8576b"
            ],
            [
             0.6666666666666666,
             "#ed7953"
            ],
            [
             0.7777777777777778,
             "#fb9f3a"
            ],
            [
             0.8888888888888888,
             "#fdca26"
            ],
            [
             1,
             "#f0f921"
            ]
           ],
           "sequentialminus": [
            [
             0,
             "#0d0887"
            ],
            [
             0.1111111111111111,
             "#46039f"
            ],
            [
             0.2222222222222222,
             "#7201a8"
            ],
            [
             0.3333333333333333,
             "#9c179e"
            ],
            [
             0.4444444444444444,
             "#bd3786"
            ],
            [
             0.5555555555555556,
             "#d8576b"
            ],
            [
             0.6666666666666666,
             "#ed7953"
            ],
            [
             0.7777777777777778,
             "#fb9f3a"
            ],
            [
             0.8888888888888888,
             "#fdca26"
            ],
            [
             1,
             "#f0f921"
            ]
           ]
          },
          "colorway": [
           "#636efa",
           "#EF553B",
           "#00cc96",
           "#ab63fa",
           "#FFA15A",
           "#19d3f3",
           "#FF6692",
           "#B6E880",
           "#FF97FF",
           "#FECB52"
          ],
          "font": {
           "color": "#2a3f5f"
          },
          "geo": {
           "bgcolor": "white",
           "lakecolor": "white",
           "landcolor": "#E5ECF6",
           "showlakes": true,
           "showland": true,
           "subunitcolor": "white"
          },
          "hoverlabel": {
           "align": "left"
          },
          "hovermode": "closest",
          "mapbox": {
           "style": "light"
          },
          "paper_bgcolor": "white",
          "plot_bgcolor": "#E5ECF6",
          "polar": {
           "angularaxis": {
            "gridcolor": "white",
            "linecolor": "white",
            "ticks": ""
           },
           "bgcolor": "#E5ECF6",
           "radialaxis": {
            "gridcolor": "white",
            "linecolor": "white",
            "ticks": ""
           }
          },
          "scene": {
           "xaxis": {
            "backgroundcolor": "#E5ECF6",
            "gridcolor": "white",
            "gridwidth": 2,
            "linecolor": "white",
            "showbackground": true,
            "ticks": "",
            "zerolinecolor": "white"
           },
           "yaxis": {
            "backgroundcolor": "#E5ECF6",
            "gridcolor": "white",
            "gridwidth": 2,
            "linecolor": "white",
            "showbackground": true,
            "ticks": "",
            "zerolinecolor": "white"
           },
           "zaxis": {
            "backgroundcolor": "#E5ECF6",
            "gridcolor": "white",
            "gridwidth": 2,
            "linecolor": "white",
            "showbackground": true,
            "ticks": "",
            "zerolinecolor": "white"
           }
          },
          "shapedefaults": {
           "line": {
            "color": "#2a3f5f"
           }
          },
          "ternary": {
           "aaxis": {
            "gridcolor": "white",
            "linecolor": "white",
            "ticks": ""
           },
           "baxis": {
            "gridcolor": "white",
            "linecolor": "white",
            "ticks": ""
           },
           "bgcolor": "#E5ECF6",
           "caxis": {
            "gridcolor": "white",
            "linecolor": "white",
            "ticks": ""
           }
          },
          "title": {
           "x": 0.05
          },
          "xaxis": {
           "automargin": true,
           "gridcolor": "white",
           "linecolor": "white",
           "ticks": "",
           "title": {
            "standoff": 15
           },
           "zerolinecolor": "white",
           "zerolinewidth": 2
          },
          "yaxis": {
           "automargin": true,
           "gridcolor": "white",
           "linecolor": "white",
           "ticks": "",
           "title": {
            "standoff": 15
           },
           "zerolinecolor": "white",
           "zerolinewidth": 2
          }
         }
        },
        "title": {
         "text": "Top ZIPs for First-Time Buyers — colored by FTB score (n=48)"
        }
       }
      }
     },
     "metadata": {},
     "output_type": "display_data"
    },
    {
     "data": {
      "text/html": [
       "<a href=\"outputs/figures/ftb_zip_map.html\" target=\"_blank\">Open interactive map in browser</a>"
      ],
      "text/plain": [
       "<IPython.core.display.HTML object>"
      ]
     },
     "metadata": {},
     "output_type": "display_data"
    }
   ],
   "source": [
    "# ==========================\n",
    "# MAP: ZIP-level scatter (FTB score) — inline & link\n",
    "# ==========================\n",
    "\n",
    "from IPython.display import display, HTML\n",
    "\n",
    "# Show interactive map directly inside notebook\n",
    "fig.show()\n",
    "\n",
    "# Also show clickable link to open in a browser tab\n",
    "out_html = Path(\"outputs/figures/ftb_zip_map.html\")\n",
    "fig.write_html(out_html)\n",
    "display(HTML(f'<a href=\"{out_html}\" target=\"_blank\">Open interactive map in browser</a>'))\n"
   ]
  },
  {
   "cell_type": "markdown",
   "id": "624147bc-d357-49ae-97ba-85a44e746b29",
   "metadata": {},
   "source": [
    "## 🗺️ How to Read the Map of First-Time Buyer ZIPs\n",
    "\n",
    "- **Each dot = one ZIP code**  \n",
    "  The dot represents the geographic center of that ZIP.\n",
    "\n",
    "- **Color = First-Time Buyer (FTB) Score**  \n",
    "  - Brighter colors (yellow/green) → higher scores → more attractive for first-time buyers.  \n",
    "  - Darker colors (purple/blue) → relatively lower scores.\n",
    "\n",
    "- **Size = Affordability (bubble size is inversely related to price)**  \n",
    "  - Larger bubbles = more affordable homes (lower median prices).  \n",
    "  - Smaller bubbles = higher-priced ZIPs.\n",
    "\n",
    "- **Hover tooltip = Key details**  \n",
    "  Move your mouse over a bubble to see:  \n",
    "  - ZIP code  \n",
    "  - FTB Score  \n",
    "  - Latest median home price  \n",
    "  - Metro area  \n",
    "  - State  \n",
    "  - Budget tier (e.g., $200k, $350k, $500k)\n",
    "\n",
    "- **Clusters tell a story**  \n",
    "  - If you see several bright, large bubbles in one area → strong affordability + growth potential in that region.  \n",
    "  - For example, you might notice many opportunities concentrated in the **South and Midwest**.\n"
   ]
  },
  {
   "cell_type": "code",
   "execution_count": 23,
   "id": "b604b8d8-cc0c-47d4-b55b-16f09ed94b7c",
   "metadata": {},
   "outputs": [
    {
     "data": {
      "image/png": "[encoded data removed]",
      "text/plain": [
       "<Figure size 1000x600 with 1 Axes>"
      ]
     },
     "metadata": {},
     "output_type": "display_data"
    }
   ],
   "source": [
    "# ================================\n",
    "# Break down what’s driving the scores\n",
    "# ================================\n",
    "\"\"\"Are top ZIPs winning mainly on affordability? Or on stability/market health?\"\"\"\n",
    "\n",
    "# Pick one of the tiers (e.g., $200k) — you can repeat for 350k/500k\n",
    "tbl = rank_200.copy()\n",
    "\n",
    "# Ensure the score columns exist\n",
    "score_cols = [\"afford_score\",\"growth_score\",\"market_score\",\"stability_score\"]\n",
    "tbl = tbl.dropna(subset=score_cols).copy()\n",
    "\n",
    "# Take top N zips for visualization\n",
    "TOP_N = 10\n",
    "tbl = tbl.sort_values(\"ftb_score\", ascending=False).head(TOP_N)\n",
    "\n",
    "# Build stacked bar data\n",
    "scores = tbl.set_index(\"zip_code\")[score_cols]\n",
    "\n",
    "# Plot\n",
    "ax = scores.plot(\n",
    "    kind=\"bar\",\n",
    "    stacked=True,\n",
    "    figsize=(10,6),\n",
    "    colormap=\"tab20c\"\n",
    ")\n",
    "plt.title(\"Drivers of First-Time Buyer Score — Top $200k ZIPs\")\n",
    "plt.ylabel(\"Score contribution (0–1 scale)\")\n",
    "plt.xlabel(\"ZIP Code\")\n",
    "plt.legend(title=\"Component\")\n",
    "plt.tight_layout()\n",
    "plt.show()"
   ]
  },
  {
   "cell_type": "markdown",
   "id": "e51e8c64-dd79-4bac-8f88-dabd9f2b3696",
   "metadata": {},
   "source": [
    "### Insights: What Drives the First-Time Buyer Score?\n",
    "\n",
    "From the stacked bar chart of the **Top $200k ZIPs**, we can see:\n",
    "\n",
    "- **Affordability dominates**  \n",
    "  Every top ZIP in this tier hits the maximum affordability score (1.0).  \n",
    "  → This means all candidates are already very budget-friendly for first-time buyers.\n",
    "\n",
    "- **Growth & Market Health separate the winners**  \n",
    "  While affordability is maxed out across the board, the differences between ZIPs come from:\n",
    "  - **Growth score** (orange): ZIPs like *15379 (PA)* and *38639 (MS)* show stronger recent growth.  \n",
    "  - **Market score** (purple): healthy days-on-market and sale-to-list ratios further boost some ZIPs.\n",
    "\n",
    "- **Stability is supportive, not decisive**  \n",
    "  Stability (gray) contributes meaningfully but doesn’t appear to be the primary driver.  \n",
    "  → Most ZIPs are relatively stable, but that’s not what separates them at the top.\n",
    "\n",
    "---\n",
    "\n",
    "**Takeaway:**  \n",
    "At the **$200k tier**, the winners aren’t just cheap ZIPs.  \n",
    "They combine **budget-friendly entry prices** *plus* **signs of market health and growth**, which makes them especially attractive to first-time buyers.\n"
   ]
  },
  {
   "cell_type": "code",
   "execution_count": 26,
   "id": "21ff3f9a-ac77-43ec-881b-f691596d70c0",
   "metadata": {},
   "outputs": [
    {
     "data": {
      "image/png": "[encoded data removed]",
      "text/plain": [
       "<Figure size 600x400 with 1 Axes>"
      ]
     },
     "metadata": {},
     "output_type": "display_data"
    },
    {
     "data": {
      "text/html": [
       "<div>\n",
       "<style scoped>\n",
       "    .dataframe tbody tr th:only-of-type {\n",
       "        vertical-align: middle;\n",
       "    }\n",
       "\n",
       "    .dataframe tbody tr th {\n",
       "        vertical-align: top;\n",
       "    }\n",
       "\n",
       "    .dataframe thead th {\n",
       "        text-align: right;\n",
       "    }\n",
       "</style>\n",
       "<table border=\"1\" class=\"dataframe\">\n",
       "  <thead>\n",
       "    <tr style=\"text-align: right;\">\n",
       "      <th></th>\n",
       "      <th>budget</th>\n",
       "      <th>ftb_score</th>\n",
       "      <th>latest_price</th>\n",
       "      <th>why_it_ranks</th>\n",
       "    </tr>\n",
       "  </thead>\n",
       "  <tbody>\n",
       "    <tr>\n",
       "      <th>0</th>\n",
       "      <td>$200k</td>\n",
       "      <td>0.993209</td>\n",
       "      <td>35000.0</td>\n",
       "      <td>well under budget, strong recent growth, healt...</td>\n",
       "    </tr>\n",
       "    <tr>\n",
       "      <th>1</th>\n",
       "      <td>$350k</td>\n",
       "      <td>0.993209</td>\n",
       "      <td>35000.0</td>\n",
       "      <td>well under budget, strong recent growth, healt...</td>\n",
       "    </tr>\n",
       "    <tr>\n",
       "      <th>2</th>\n",
       "      <td>$500k</td>\n",
       "      <td>0.993209</td>\n",
       "      <td>35000.0</td>\n",
       "      <td>well under budget, strong recent growth, healt...</td>\n",
       "    </tr>\n",
       "  </tbody>\n",
       "</table>\n",
       "</div>"
      ],
      "text/plain": [
       "  budget  ftb_score  latest_price  \\\n",
       "0  $200k   0.993209       35000.0   \n",
       "1  $350k   0.993209       35000.0   \n",
       "2  $500k   0.993209       35000.0   \n",
       "\n",
       "                                        why_it_ranks  \n",
       "0  well under budget, strong recent growth, healt...  \n",
       "1  well under budget, strong recent growth, healt...  \n",
       "2  well under budget, strong recent growth, healt...  "
      ]
     },
     "metadata": {},
     "output_type": "display_data"
    }
   ],
   "source": [
    "# ==========================\n",
    "# STEP: Budget Comparison\n",
    "# ==========================\n",
    "\n",
    "import matplotlib.pyplot as plt\n",
    "\n",
    "def compare_zip_across_budgets(zip_code, ranks):\n",
    "    \"\"\"\n",
    "    Compare how a single ZIP performs across budget tiers.\n",
    "    \n",
    "    Parameters\n",
    "    ----------\n",
    "    zip_code : int or str\n",
    "        ZIP code to analyze\n",
    "    ranks : dict\n",
    "        Dict of budget name -> dataframe (e.g. {\"200k\": best_200k_geo, ...})\n",
    "    \"\"\"\n",
    "    # Collect rows for this ZIP across all tiers\n",
    "    rows = []\n",
    "    for budget, df in ranks.items():\n",
    "        row = df[df[\"zip_code\"].astype(str) == str(zip_code)]\n",
    "        if not row.empty:\n",
    "            r = row.iloc[0]\n",
    "            rows.append({\n",
    "                \"budget\": budget,\n",
    "                \"ftb_score\": r[\"ftb_score\"],\n",
    "                \"latest_price\": r[\"latest_price\"],\n",
    "                \"why_it_ranks\": r.get(\"why_it_ranks\", \"\")\n",
    "            })\n",
    "    if not rows:\n",
    "        print(f\"No data found for ZIP {zip_code}\")\n",
    "        return\n",
    "    \n",
    "    # Convert to DataFrame for easier plotting\n",
    "    comp = pd.DataFrame(rows)\n",
    "    \n",
    "    # --- Plot\n",
    "    plt.figure(figsize=(6,4))\n",
    "    plt.bar(comp[\"budget\"], comp[\"ftb_score\"], color=\"teal\", alpha=0.7)\n",
    "    plt.ylim(0, 1.05)\n",
    "    plt.title(f\"ZIP {zip_code} — First-Time Buyer Score Across Budgets\")\n",
    "    plt.ylabel(\"FTB Score\")\n",
    "    plt.xlabel(\"Budget Tier\")\n",
    "    plt.show()\n",
    "    \n",
    "    # --- Print context\n",
    "    display(comp)\n",
    "\n",
    "# Example usage:\n",
    "ranks = {\n",
    "    \"$200k\": rank_200,\n",
    "    \"$350k\": rank_350,\n",
    "    \"$500k\": rank_500,\n",
    "}\n",
    "\n",
    "# Try Pittsburgh 15379\n",
    "compare_zip_across_budgets(15379, ranks)\n"
   ]
  },
  {
   "cell_type": "markdown",
   "id": "fddf9b8a-6033-4c01-b7d3-3983cde762c7",
   "metadata": {},
   "source": [
    "## Budget Comparison — ZIP 15379 (Pittsburgh, PA)\n",
    "\n",
    "- **Observation:**  \n",
    "  ZIP 15379 consistently maintains an **exceptionally high First-Time Buyer (FTB) score (~0.99)** across all budget tiers ($200k, $350k, $500k).  \n",
    "\n",
    "- **Reasoning:**  \n",
    "  - The latest median price ($35,000) is **well below all budget thresholds**, meaning affordability is extremely strong.  \n",
    "  - Since the same price holds true regardless of budget tier, the ZIP always qualifies as \"very affordable,\" hence the flat score across tiers.  \n",
    "  - Market health indicators (growth, DOM, sale-to-list ratio) remain favorable, reinforcing the consistently high ranking.  \n",
    "\n",
    "- **Story:**  \n",
    "  For buyers, **Pittsburgh 15379 is a top-tier affordable market**, no matter whether the budget is modest ($200k) or more flexible ($500k).  \n",
    "  This makes it a *stable recommendation* that doesn’t shift with different affordability bands.\n"
   ]
  },
  {
   "cell_type": "code",
   "execution_count": null,
   "id": "74f9ad98-5e0d-403c-b400-e599b36f94d7",
   "metadata": {},
   "outputs": [],
   "source": []
  }
 ],
 "metadata": {
  "kernelspec": {
   "display_name": "Python 3 (ipykernel)",
   "language": "python",
   "name": "python3"
  },
  "language_info": {
   "codemirror_mode": {
    "name": "ipython",
    "version": 3
   },
   "file_extension": ".py",
   "mimetype": "text/x-python",
   "name": "python",
   "nbconvert_exporter": "python",
   "pygments_lexer": "ipython3",
   "version": "3.12.9"
  }
 },
 "nbformat": 4,
 "nbformat_minor": 5
}
